{
 "cells": [
  {
   "cell_type": "markdown",
   "metadata": {},
   "source": [
    "# Script auto distance for data"
   ]
  },
  {
   "cell_type": "markdown",
   "metadata": {},
   "source": [
    "- Made a small script for calculating distance Ploop_bend6. \n",
    "    - Can easily be adopted for other distances.\n",
    "    - Anchor point interpreters can be introduced.\n",
    "    - Not reliable yet, due to static choice of atom, also static choice of residue number\n",
    "- Tested script on a few proteins\n",
    "    - did measurements for all proteins in the PKACa folder\n",
    "    - compared results with reference excel sheet with good results\n",
    "    - probably still room for improvement"
   ]
  },
  {
   "cell_type": "markdown",
   "metadata": {},
   "source": [
    "## Code"
   ]
  },
  {
   "cell_type": "markdown",
   "metadata": {},
   "source": [
    "### Imports"
   ]
  },
  {
   "cell_type": "code",
   "execution_count": 42,
   "metadata": {
    "collapsed": false
   },
   "outputs": [],
   "source": [
    "%matplotlib inline\n",
    "\n",
    "import numpy as np\n",
    "import pandas as pd\n",
    "import re\n",
    "import os\n",
    "from sympy import Plane, Point3D\n",
    "\n",
    "matplotlib.style.use('ggplot')\n",
    "import matplotlib.pyplot as plt\n",
    "\n"
   ]
  },
  {
   "cell_type": "markdown",
   "metadata": {},
   "source": [
    "### Dataclass"
   ]
  },
  {
   "cell_type": "code",
   "execution_count": 16,
   "metadata": {
    "collapsed": false
   },
   "outputs": [],
   "source": [
    "\n",
    "class molData:\n",
    "    def __init__(self,path,data_section = 0):\n",
    "        my_data = pd.read_table(path,skiprows=8,header=None,delim_whitespace=True,index_col=0)\n",
    "        atoms = my_data.loc[:\"@<TRIPOS>BOND\"].iloc[:-1]\n",
    "        atoms.columns = [\"atomID\",\"x\",\"y\",\"z\",\"compound2\",\n",
    "                         \"residueNR\",\"residue\",\"charge\",\"mainChain\"]\n",
    "        resPattern = r\"[A-Z]{3}[0-9]*\"\n",
    "        hohPattern = r\"HOH[0-9]*\"\n",
    "        residueMask = atoms.loc[:,\"residue\"].str.match(resPattern,as_indexer=True).values\n",
    "        hohMask = atoms.loc[:,\"residue\"].str.match(hohPattern,as_indexer=True).values\n",
    "        self.other = atoms.loc[np.logical_not(residueMask)]\n",
    "        self.water = atoms.loc[hohMask]\n",
    "        self.chain = atoms.loc[np.logical_and(residueMask,np.logical_not(hohMask))]\n",
    "        resDigest = self.chain.loc[:,\"residue\"].str.extract('(?P<residueType>[A-Z]{3})(?P<residueID>[0-9]*)')\n",
    "        self.chain = self.chain.join(resDigest)\n",
    "        self.chainIDGroups = self.chain.groupby([\"residueID\",\"atomID\"])\n",
    "        self.chainNRGroups = self.chain.groupby([\"residueNR\",\"atomID\"])\n",
    "        self.bonds = my_data.loc[\"@<TRIPOS>BOND\":\"@<TRIPOS>SUBSTRUCTURE\"].iloc[1:-1]\n",
    "        self.subst = my_data.loc[\"@<TRIPOS>SUBSTRUCTURE\":].iloc[1:-2]\n",
    "\n",
    "    def anchordistance(self,res1,res2): # fix\n",
    "        coord1 = self.old_get_atom_coords(res1)\n",
    "        coord2 = self.old_get_atom_coords(res2)\n",
    "        return self.distance(coord1,coord2)\n",
    "        \n",
    "    def distance(self,coord1,coord2):\n",
    "        return np.linalg.norm(coord1 - coord2)\n",
    "    \n",
    "    def old_get_atom_coords(self, residueID, anchor_atom=2):\n",
    "        \"\"\"\n",
    "            extracts coordinates for target atom according to residue type \n",
    "        \"\"\"\n",
    "        residue = self.chainIDGroups.get_group((residueID))\n",
    "        anchor = residue.iloc[anchor_atom]\n",
    "        coords = anchor.loc[\"x\":\"z\"]\n",
    "        return np.array(coords).astype(np.float32)\n",
    "    \n",
    "    def get_atom_coords1(self, residueID, anchor_atom=\"CA\"): # combine with 2 later\n",
    "        anchor = self.chainIDGroups.get_group((residueID,anchor_atom))\n",
    "        coords = anchor.loc[:,\"x\":\"z\"]\n",
    "        return np.array(coords).astype(np.float32)\n",
    "\n",
    "    def get_atom_coords2(self, residueNR, anchor_atom=\"CA\"):\n",
    "        try:\n",
    "            anchor = self.chainNRGroups.get_group((residueNR,anchor_atom))\n",
    "        except KeyError as e:\n",
    "            e.args += (residueNR,anchor_atom,self.chainNRGroups.groups, )\n",
    "            raise\n",
    "        coords = anchor.loc[:,\"x\":\"z\"]\n",
    "        result = np.array(coords.values).astype(np.float32)[0]\n",
    "        return result\n",
    "        \n",
    "    def chi_angle(self,coords):\n",
    "        plane1 = Plane(Point3D(coords[0]), Point3D(coords[1]), Point3D(coords[2]))\n",
    "        plane2 = Plane(Point3D(coords[1]), Point3D(coords[2]), Point3D(coords[3]))\n",
    "        return plane1.angle_between(plane2)\n",
    "        \n",
    "    def calculate_chi1(self,residue):\n",
    "        Amcrd = self.get_atom_coords2(residue, \"N\")\n",
    "        CAcrd = self.get_atom_coords2(residue, \"CA\")\n",
    "        CBcrd = self.get_atom_coords2(residue, \"CB\")\n",
    "        CGcrd = self.get_atom_coords2(residue, \"CG\")\n",
    "        coords = (Amcrd, CAcrd, CBcrd, CGcrd)\n",
    "        return self.chi_angle(coords).evalf()\n",
    "    \n",
    "    def calculate_chi2(self,residue):\n",
    "        CAcrd = self.get_atom_coords2(residue, \"CA\")\n",
    "        CBcrd = self.get_atom_coords2(residue, \"CB\")\n",
    "        CGcrd = self.get_atom_coords2(residue, \"CG\")\n",
    "        SDcrd = self.get_atom_coords2(residue, \"SD\")\n",
    "        coords = (CAcrd, CBcrd, CGcrd, SDcrd)\n",
    "        return self.chi_angle(coords).evalf()\n",
    "    \n",
    "    def chi_angles(self,residue):\n",
    "        chi1 = self.calculate_chi1(str(residue))\n",
    "        chi2 = self.calculate_chi2(str(residue))\n",
    "        return [chi1, chi2]\n",
    "\n",
    "    "
   ]
  },
  {
   "cell_type": "markdown",
   "metadata": {
    "collapsed": true
   },
   "source": [
    "### Mass calculation method"
   ]
  },
  {
   "cell_type": "code",
   "execution_count": 12,
   "metadata": {
    "collapsed": false
   },
   "outputs": [],
   "source": [
    "\n",
    "DATASECTIONS = {\n",
    "    \"complex\": \"/complex.mol2\",\n",
    "    \"pocket\": \"/pocket.mol2\"\n",
    "}\n",
    "\n",
    "MEASUREMENTS = {\n",
    "    \"distance\": \"distance\",\n",
    "    \"angles\": \"chi_angles\"\n",
    "}\n",
    "\n",
    "MEASID = {\n",
    "    \"distance\": 0,\n",
    "    \"chi_angles\": 1\n",
    "}\n",
    "\n",
    "def calculate_kinase_data(structure_path, data_section, measurement, res_ids=None):\n",
    "    structures = pd.Series([name for name in os.listdir(structure_path) if os.path.isdir(structure_path + name)])\n",
    "    structure_labels = structures.str.replace(\"chain\",\"\").str.lower().str.replace(\"_alt[ab]\",\"\")\n",
    "    results = pd.DataFrame(index = structure_labels)\n",
    "    if measurement == 0:\n",
    "        results[\"measured\"] = pd.Series()\n",
    "    elif measurement == 1:\n",
    "        results[\"chi1\"] = pd.Series()\n",
    "        results[\"chi2\"] = pd.Series()\n",
    "\n",
    "    for structure, structure_label in zip(structures,structure_labels):\n",
    "        myurl = structure_path + structure + DATASECTIONS[data_section]\n",
    "        mydata = molData(myurl,data_section)\n",
    "        if measurement == 0:\n",
    "            residueID1 = res_ids[0]\n",
    "            residueID2 = res_ids[1]\n",
    "            results.loc[structure_label,\"measured\"] = mydata.anchordistance(residueID1,residueID2)\n",
    "        elif measurement == 1:\n",
    "            if res_ids is None:\n",
    "                res_ids = 45\n",
    "            residueID = res_ids\n",
    "            try:\n",
    "                angles = mydata.chi_angles(residueID)\n",
    "            except KeyError as e:\n",
    "                e.args += (structure, )\n",
    "                raise\n",
    "            results.loc[structure_label,\"chi1\"] = angles[0]\n",
    "            results.loc[structure_label,\"chi2\"] = angles[1]\n",
    "    return results\n",
    "\n",
    "\n",
    "def calculate_organism_data(organism_path,data_section,measurement,res_ids=None):\n",
    "    kinases = pd.Series([name for name in os.listdir(organism_path) if os.path.isdir(organism_path + name)])\n",
    "    measurement = MEASUREMENTS[measurement]\n",
    "    measurement = MEASID[measurement]\n",
    "    if measurement == 0:\n",
    "        results = pd.DataFrame(columns = \"measured\")\n",
    "    elif measurement == 1:\n",
    "        results = pd.DataFrame(columns = [\"chi1\",\"chi2\"])\n",
    "    for kinase in kinases:\n",
    "        kinase_path = organism_path + kinase + \"/\"\n",
    "        try:\n",
    "            kinase_data = calculate_kinase_data(kinase_path, data_section, measurement, res_ids)\n",
    "            results = results.append(kinase_data)\n",
    "        except KeyError as e:\n",
    "            print str(e[0]) + \" not found for kinase: \" + kinase + \", version: \" + str(e[-1])\n",
    "    return results\n"
   ]
  },
  {
   "cell_type": "markdown",
   "metadata": {},
   "source": [
    "## Calculate methionine gatekeeper chi angles"
   ]
  },
  {
   "cell_type": "code",
   "execution_count": 14,
   "metadata": {
    "collapsed": false
   },
   "outputs": [],
   "source": [
    "myurl1 = \"/Users/matthias/Documents/hibit.in/KLIFS_LigandBound2/HUMAN/\"\n",
    "myurl2 = \"/Users/matthias/Documents/hibit.in/KLIFS_LigandUnBound2/HUMAN/\"\n",
    "mydata = \"pocket\"\n",
    "mymeasurement = \"angles\"\n",
    "\n",
    "\n"
   ]
  },
  {
   "cell_type": "code",
   "execution_count": 37,
   "metadata": {
    "collapsed": false
   },
   "outputs": [
    {
     "name": "stdout",
     "output_type": "stream",
     "text": [
      "('45', 'SD') not found for kinase: ABL1, version: 2hz4_chainA\n",
      "('45', 'CG') not found for kinase: ABL2, version: 2xyn_altA_chainB\n",
      "('45', 'CB') not found for kinase: AKT1, version: 3o96_chainA\n",
      "('45', 'SD') not found for kinase: ALK, version: 2yfx_chainA\n",
      "('45', 'SD') not found for kinase: AurA, version: 2wqe_chainA\n",
      "('45', 'CG') not found for kinase: BTK, version: 4rx5_altA_chainA\n",
      "('45', 'SD') not found for kinase: CaMK1a, version: 4fg8_chainA\n",
      "('45', 'SD') not found for kinase: CDK2, version: 3ezr_chainA\n",
      "('45', 'CB') not found for kinase: CHK1, version: 2ym7_altA_chainA\n",
      "('45', 'SD') not found for kinase: CK1d, version: 3uzp_chainB\n",
      "('45', 'SD') not found for kinase: CK1e, version: 4hni_chainA\n",
      "('45', 'SD') not found for kinase: CK1g1, version: 2cmw_altA_chainA\n",
      "('45', 'SD') not found for kinase: CK2a1, version: 3h30_altA_chainA\n",
      "('45', 'CG') not found for kinase: COT, version: 4y83_chainB\n",
      "('45', 'CG') not found for kinase: DDR1, version: 3zos_altA_chainA\n",
      "('45', 'SD') not found for kinase: EGFR, version: 3ug2_altA_chainA\n",
      "('45', 'CB') not found for kinase: FAK, version: 4ebv_altC_chainA\n",
      "('45', 'CG') not found for kinase: FGFR1, version: 4uwc_altA_chainA\n",
      "('45', 'CB') not found for kinase: HGK, version: 4obq_altA_chainA\n",
      "('45', 'SD') not found for kinase: IGF1R, version: 1jqh_chainA\n",
      "('45', 'CG') not found for kinase: IKKb, version: 4kik_altA_chainA\n",
      "('45', 'SD') not found for kinase: INSR, version: 1i44_chainA\n",
      "('45', 'SD') not found for kinase: IRAK4, version: 4yo6_altA_chainD\n",
      "('45', 'SD') not found for kinase: ITK, version: 4m0y_altA_chainA\n",
      "('45', 'SD') not found for kinase: JAK1, version: 4fk6_altA_chainA\n",
      "('45', 'SD') not found for kinase: JAK2, version: 2xa4_altA_chainA\n",
      "('45', 'SD') not found for kinase: JAK3, version: 3zep_altA_chainB\n",
      "('45', 'CA') not found for kinase: JNK1, version: 4l7f_altC_chainA\n",
      "('45', 'SD') not found for kinase: JNK3, version: 2b1p_chainA\n",
      "('45', 'SD') not found for kinase: MAP2K1, version: 3zly_chainA\n",
      "('45', 'CG') not found for kinase: MAP2K4, version: 3aln_chainC\n",
      "('45', 'CG') not found for kinase: MAP2K7, version: 3wzu_chainA\n",
      "('45', 'CG') not found for kinase: MAP3K5, version: 4bf2_chainA\n",
      "('45', 'SD') not found for kinase: MAPKAPK2, version: 1nxk_chainA\n",
      "('45', 'SD') not found for kinase: MAPKAPK3, version: 3fxw_altA_chainA\n",
      "('45', 'SD') not found for kinase: MPSK1, version: 2buj_chainA\n",
      "('45', 'CG') not found for kinase: MST2, version: 4lgd_chainC\n",
      "('45', 'SD') not found for kinase: MST4, version: 4fzf_chainB\n",
      "('45', 'CB') not found for kinase: NEK1, version: 4b9d_altA_chainA\n",
      "('45', 'CG') not found for kinase: NEK2, version: 2wqo_chainA\n",
      "('45', 'SD') not found for kinase: OSR1, version: 2vwi_altA_chainA\n",
      "('45', 'CG') not found for kinase: p38a, version: 1ouy_chainA\n",
      "('45', 'SD') not found for kinase: p38g, version: 1cm8_chainA\n",
      "('45', 'CB') not found for kinase: PAK1, version: 4p90_chainB\n",
      "('45', 'SD') not found for kinase: PDK1, version: 3hrf_altA_chainA\n",
      "('45', 'SD') not found for kinase: PEK, version: 4g31_altA_chainA\n",
      "('45', 'SD') not found for kinase: PIM1, version: 4i41_chainA\n",
      "('45', 'CB') not found for kinase: RIPK1, version: 4ith_altA_chainB\n",
      "('45', 'CG') not found for kinase: RNAseL, version: 4oav_chainD\n",
      "('45', 'CB') not found for kinase: SgK085, version: 2x4f_altA_chainA\n",
      "('45', 'SD') not found for kinase: SRPK2, version: 3beg_chainA\n",
      "('45', 'SD') not found for kinase: SYK, version: 3fqh_chainA\n",
      "('45', 'CG') not found for kinase: TNIK, version: 2x7f_altA_chainD\n",
      "('45', 'SD') not found for kinase: TTBK1, version: 4btk_chainA\n",
      "('45', 'CB') not found for kinase: TTK, version: 4bhz_chainA\n",
      "('45', 'SD') not found for kinase: TYK2, version: 4gfo_altA_chainA\n",
      "('45', 'CG') not found for kinase: TYK2-b, version: 4oli_chainA\n",
      "('45', 'SD') not found for kinase: VRK1, version: 3op5_altA_chainA\n"
     ]
    },
    {
     "name": "stderr",
     "output_type": "stream",
     "text": [
      "/usr/local/lib/python2.7/site-packages/ipykernel/__main__.py:15: FutureWarning: currently extract(expand=None) means expand=False (return Index/Series/DataFrame) but in a future version of pandas this will be changed to expand=True (return DataFrame)\n"
     ]
    }
   ],
   "source": [
    "dataBound = calculate_organism_data(myurl1, mydata, mymeasurement)\n"
   ]
  },
  {
   "cell_type": "code",
   "execution_count": 38,
   "metadata": {
    "collapsed": false
   },
   "outputs": [
    {
     "name": "stdout",
     "output_type": "stream",
     "text": [
      "('45', 'SD') not found for kinase: AKT2, version: 1gzk_chainA\n",
      "('45', 'CG') not found for kinase: CK1d, version: 3uys_chainA\n",
      "('45', 'CB') not found for kinase: CK1e, version: 4hok_chainA\n",
      "('45', 'SD') not found for kinase: EGFR, version: 3ug1_altA_chainA\n",
      "('45', 'SD') not found for kinase: FGFR1, version: 4rwi_altA_chainB\n",
      "('45', 'CG') not found for kinase: HGK, version: 4obo_altA_chainB\n",
      "('45', 'SD') not found for kinase: IGF1R, version: 1m7n_chainA\n",
      "('45', 'SD') not found for kinase: INSR, version: 1gag_chainA\n",
      "('45', 'SD') not found for kinase: JNK1, version: 4yr8_altA_chainA\n",
      "('45', 'SD') not found for kinase: JNK3, version: 4h3b_altC_chainA\n",
      "('45', 'SD') not found for kinase: MAP2K4, version: 3vut_chainA\n",
      "('45', 'CG') not found for kinase: MAP2K7, version: 2dyl_chainA\n",
      "('45', 'CG') not found for kinase: MARK2, version: 3iec_chainA\n",
      "('45', 'CB') not found for kinase: MST1, version: 3com_chainA\n",
      "('45', 'SD') not found for kinase: MST2, version: 4lg4_altA_chainA\n",
      "('45', 'CB') not found for kinase: MST3, version: 3ckw_altA_chainA\n",
      "('45', 'CB') not found for kinase: NEK1, version: 4apc_altA_chainA\n",
      "('45', 'SD') not found for kinase: NIK, version: 4g3d_chainA\n",
      "('45', 'CB') not found for kinase: PAK1, version: 4zlo_altA_chainB\n",
      "('45', 'CB') not found for kinase: PAK4, version: 2bva_chainA\n",
      "('45', 'SD') not found for kinase: SYK, version: 4xg2_chainA\n",
      "('45', 'SD') not found for kinase: VRK2, version: 2v62_altA_chainA\n"
     ]
    },
    {
     "name": "stderr",
     "output_type": "stream",
     "text": [
      "/usr/local/lib/python2.7/site-packages/ipykernel/__main__.py:15: FutureWarning: currently extract(expand=None) means expand=False (return Index/Series/DataFrame) but in a future version of pandas this will be changed to expand=True (return DataFrame)\n"
     ]
    }
   ],
   "source": [
    "dataUnbound = calculate_organism_data(myurl2, mydata, mymeasurement)"
   ]
  },
  {
   "cell_type": "code",
   "execution_count": 50,
   "metadata": {
    "collapsed": false
   },
   "outputs": [
    {
     "data": {
      "image/png": "[encoded data removed]",
      "text/plain": [
       "<matplotlib.figure.Figure at 0x10defb0d0>"
      ]
     },
     "metadata": {},
     "output_type": "display_data"
    }
   ],
   "source": [
    "\n",
    "fig = plt.figure()\n",
    "ax = fig.add_subplot(111)\n",
    "ax = dataBound.astype(np.float32).plot.scatter(\"chi1\",\"chi2\",color=\"DarkBlue\",label=\"Ligand Bound\", ax=ax)\n",
    "ax = dataUnbound.astype(np.float32).plot.scatter(\"chi1\",\"chi2\",color=\"DarkGreen\",label=\"No Ligand\", ax=ax)\n",
    "plt.show()\n",
    "fig.savefig(\"/Users/matthias/Documents/hibit.in/development/KinStruct/chi_angles.png\")"
   ]
  },
  {
   "cell_type": "markdown",
   "metadata": {},
   "source": [
    "\n",
    "## Old stuff"
   ]
  },
  {
   "cell_type": "markdown",
   "metadata": {},
   "source": [
    "### Distance measurement"
   ]
  },
  {
   "cell_type": "code",
   "execution_count": null,
   "metadata": {
    "collapsed": true
   },
   "outputs": [],
   "source": []
  },
  {
   "cell_type": "markdown",
   "metadata": {},
   "source": [
    "### Load excel file"
   ]
  },
  {
   "cell_type": "code",
   "execution_count": 8,
   "metadata": {
    "collapsed": false
   },
   "outputs": [],
   "source": [
    "\n",
    "#separate because takes time\n",
    "\n",
    "reference = pd.read_excel(\"/Users/matthias/Documents/hibit.in/KinaseDomainMeasures-Novartis.xlsx\",\n",
    "                          header=0,\n",
    "                          sheetname=0,\n",
    "                          parse_cols=\"B,C,AJ\")\n",
    "\n"
   ]
  },
  {
   "cell_type": "markdown",
   "metadata": {},
   "source": [
    "### Compare calculated vs reference\n",
    "\n",
    "(old stuff, currently doesn't work because of changes in dataclass atom referencing, ergo no calculation)"
   ]
  },
  {
   "cell_type": "code",
   "execution_count": 147,
   "metadata": {
    "collapsed": false
   },
   "outputs": [
    {
     "data": {
      "text/html": [
       "<div>\n",
       "<table border=\"1\" class=\"dataframe\">\n",
       "  <thead>\n",
       "    <tr style=\"text-align: right;\">\n",
       "      <th></th>\n",
       "      <th>measured</th>\n",
       "      <th>pdb</th>\n",
       "      <th>pdbredo</th>\n",
       "      <th>diff1</th>\n",
       "      <th>diff2</th>\n",
       "    </tr>\n",
       "  </thead>\n",
       "  <tbody>\n",
       "    <tr>\n",
       "      <th>2gu8_a</th>\n",
       "      <td>10.616140</td>\n",
       "      <td>10.61610</td>\n",
       "      <td>10.61070</td>\n",
       "      <td>0.000040</td>\n",
       "      <td>0.005440</td>\n",
       "    </tr>\n",
       "    <tr>\n",
       "      <th>3agl_a</th>\n",
       "      <td>10.771265</td>\n",
       "      <td>10.77120</td>\n",
       "      <td>10.76240</td>\n",
       "      <td>0.000065</td>\n",
       "      <td>0.008865</td>\n",
       "    </tr>\n",
       "    <tr>\n",
       "      <th>3agl_b</th>\n",
       "      <td>10.741295</td>\n",
       "      <td>10.74130</td>\n",
       "      <td>10.75990</td>\n",
       "      <td>-0.000005</td>\n",
       "      <td>-0.018605</td>\n",
       "    </tr>\n",
       "    <tr>\n",
       "      <th>3ama_a</th>\n",
       "      <td>9.539944</td>\n",
       "      <td>9.54004</td>\n",
       "      <td>9.52416</td>\n",
       "      <td>-0.000096</td>\n",
       "      <td>0.015784</td>\n",
       "    </tr>\n",
       "    <tr>\n",
       "      <th>3amb_a</th>\n",
       "      <td>9.597634</td>\n",
       "      <td>9.59758</td>\n",
       "      <td>9.58747</td>\n",
       "      <td>0.000054</td>\n",
       "      <td>0.010164</td>\n",
       "    </tr>\n",
       "    <tr>\n",
       "      <th>3l9l_a</th>\n",
       "      <td>9.096610</td>\n",
       "      <td>9.09654</td>\n",
       "      <td>9.02010</td>\n",
       "      <td>0.000070</td>\n",
       "      <td>0.076510</td>\n",
       "    </tr>\n",
       "    <tr>\n",
       "      <th>3l9l_b</th>\n",
       "      <td>8.899876</td>\n",
       "      <td>8.89988</td>\n",
       "      <td>9.03277</td>\n",
       "      <td>-0.000004</td>\n",
       "      <td>-0.132894</td>\n",
       "    </tr>\n",
       "    <tr>\n",
       "      <th>3l9m_a</th>\n",
       "      <td>8.446536</td>\n",
       "      <td>8.44650</td>\n",
       "      <td>8.93785</td>\n",
       "      <td>0.000036</td>\n",
       "      <td>-0.491314</td>\n",
       "    </tr>\n",
       "    <tr>\n",
       "      <th>3l9m_b</th>\n",
       "      <td>8.862170</td>\n",
       "      <td>8.86213</td>\n",
       "      <td>8.96780</td>\n",
       "      <td>0.000040</td>\n",
       "      <td>-0.105630</td>\n",
       "    </tr>\n",
       "    <tr>\n",
       "      <th>3l9n_a</th>\n",
       "      <td>9.361628</td>\n",
       "      <td>9.36162</td>\n",
       "      <td>9.33039</td>\n",
       "      <td>0.000008</td>\n",
       "      <td>0.031238</td>\n",
       "    </tr>\n",
       "    <tr>\n",
       "      <th>3mvj_a</th>\n",
       "      <td>10.542971</td>\n",
       "      <td>10.54300</td>\n",
       "      <td>10.39910</td>\n",
       "      <td>-0.000029</td>\n",
       "      <td>0.143871</td>\n",
       "    </tr>\n",
       "    <tr>\n",
       "      <th>3mvj_e</th>\n",
       "      <td>10.454778</td>\n",
       "      <td>10.45470</td>\n",
       "      <td>10.54800</td>\n",
       "      <td>0.000078</td>\n",
       "      <td>-0.093222</td>\n",
       "    </tr>\n",
       "    <tr>\n",
       "      <th>3oog_a</th>\n",
       "      <td>10.458617</td>\n",
       "      <td>10.45860</td>\n",
       "      <td>10.41580</td>\n",
       "      <td>0.000017</td>\n",
       "      <td>0.042817</td>\n",
       "    </tr>\n",
       "    <tr>\n",
       "      <th>3ovv_a</th>\n",
       "      <td>10.181555</td>\n",
       "      <td>10.20760</td>\n",
       "      <td>10.20170</td>\n",
       "      <td>-0.026045</td>\n",
       "      <td>-0.020145</td>\n",
       "    </tr>\n",
       "    <tr>\n",
       "      <th>3owp_a</th>\n",
       "      <td>10.640455</td>\n",
       "      <td>10.64050</td>\n",
       "      <td>10.64930</td>\n",
       "      <td>-0.000045</td>\n",
       "      <td>-0.008845</td>\n",
       "    </tr>\n",
       "    <tr>\n",
       "      <th>3oxt_a</th>\n",
       "      <td>10.800443</td>\n",
       "      <td>10.80050</td>\n",
       "      <td>10.83720</td>\n",
       "      <td>-0.000057</td>\n",
       "      <td>-0.036757</td>\n",
       "    </tr>\n",
       "    <tr>\n",
       "      <th>3p0m_a</th>\n",
       "      <td>10.536126</td>\n",
       "      <td>10.53620</td>\n",
       "      <td>10.55290</td>\n",
       "      <td>-0.000074</td>\n",
       "      <td>-0.016774</td>\n",
       "    </tr>\n",
       "    <tr>\n",
       "      <th>3poo_a</th>\n",
       "      <td>10.117527</td>\n",
       "      <td>10.11750</td>\n",
       "      <td>10.13820</td>\n",
       "      <td>0.000027</td>\n",
       "      <td>-0.020673</td>\n",
       "    </tr>\n",
       "    <tr>\n",
       "      <th>3vqh_a</th>\n",
       "      <td>10.609841</td>\n",
       "      <td>10.60980</td>\n",
       "      <td>10.65100</td>\n",
       "      <td>0.000041</td>\n",
       "      <td>-0.041159</td>\n",
       "    </tr>\n",
       "    <tr>\n",
       "      <th>4wb5_a</th>\n",
       "      <td>10.241685</td>\n",
       "      <td>NaN</td>\n",
       "      <td>NaN</td>\n",
       "      <td>NaN</td>\n",
       "      <td>NaN</td>\n",
       "    </tr>\n",
       "    <tr>\n",
       "      <th>4wb6_a</th>\n",
       "      <td>10.097402</td>\n",
       "      <td>NaN</td>\n",
       "      <td>NaN</td>\n",
       "      <td>NaN</td>\n",
       "      <td>NaN</td>\n",
       "    </tr>\n",
       "    <tr>\n",
       "      <th>4wb6_b</th>\n",
       "      <td>10.092268</td>\n",
       "      <td>NaN</td>\n",
       "      <td>NaN</td>\n",
       "      <td>NaN</td>\n",
       "      <td>NaN</td>\n",
       "    </tr>\n",
       "    <tr>\n",
       "      <th>4wb8_a</th>\n",
       "      <td>10.132498</td>\n",
       "      <td>NaN</td>\n",
       "      <td>NaN</td>\n",
       "      <td>NaN</td>\n",
       "      <td>NaN</td>\n",
       "    </tr>\n",
       "  </tbody>\n",
       "</table>\n",
       "</div>"
      ],
      "text/plain": [
       "         measured       pdb   pdbredo     diff1     diff2\n",
       "2gu8_a  10.616140  10.61610  10.61070  0.000040  0.005440\n",
       "3agl_a  10.771265  10.77120  10.76240  0.000065  0.008865\n",
       "3agl_b  10.741295  10.74130  10.75990 -0.000005 -0.018605\n",
       "3ama_a   9.539944   9.54004   9.52416 -0.000096  0.015784\n",
       "3amb_a   9.597634   9.59758   9.58747  0.000054  0.010164\n",
       "3l9l_a   9.096610   9.09654   9.02010  0.000070  0.076510\n",
       "3l9l_b   8.899876   8.89988   9.03277 -0.000004 -0.132894\n",
       "3l9m_a   8.446536   8.44650   8.93785  0.000036 -0.491314\n",
       "3l9m_b   8.862170   8.86213   8.96780  0.000040 -0.105630\n",
       "3l9n_a   9.361628   9.36162   9.33039  0.000008  0.031238\n",
       "3mvj_a  10.542971  10.54300  10.39910 -0.000029  0.143871\n",
       "3mvj_e  10.454778  10.45470  10.54800  0.000078 -0.093222\n",
       "3oog_a  10.458617  10.45860  10.41580  0.000017  0.042817\n",
       "3ovv_a  10.181555  10.20760  10.20170 -0.026045 -0.020145\n",
       "3owp_a  10.640455  10.64050  10.64930 -0.000045 -0.008845\n",
       "3oxt_a  10.800443  10.80050  10.83720 -0.000057 -0.036757\n",
       "3p0m_a  10.536126  10.53620  10.55290 -0.000074 -0.016774\n",
       "3poo_a  10.117527  10.11750  10.13820  0.000027 -0.020673\n",
       "3vqh_a  10.609841  10.60980  10.65100  0.000041 -0.041159\n",
       "4wb5_a  10.241685       NaN       NaN       NaN       NaN\n",
       "4wb6_a  10.097402       NaN       NaN       NaN       NaN\n",
       "4wb6_b  10.092268       NaN       NaN       NaN       NaN\n",
       "4wb8_a  10.132498       NaN       NaN       NaN       NaN"
      ]
     },
     "execution_count": 147,
     "metadata": {},
     "output_type": "execute_result"
    }
   ],
   "source": [
    "\n",
    "ref_mod = reference.set_index(\"pdbchain\",drop=False).loc[results.index]\n",
    "ref_mod.loc[:,\"pdbchain_unique\"] = ref_mod.loc[:,\"pdbchain_unique\"].str.replace(r'[\\S]{4}_[abe]_','')\n",
    "ref_mod = ref_mod.drop_duplicates()\n",
    "ref_mod = ref_mod.pivot(index=\"pdbchain\",columns=\"pdbchain_unique\",values=\"Ploop_bend6\").iloc[1:,1:]\n",
    "end_results = pd.concat([results,ref_mod],axis=1)\n",
    "\n",
    "end_results[\"diff1\"] = end_results[\"measured\"].sub(end_results[\"pdb\"],axis=0)\n",
    "end_results[\"diff2\"] = end_results[\"measured\"].sub(end_results[\"pdbredo\"],axis=0)\n",
    "end_results"
   ]
  },
  {
   "cell_type": "code",
   "execution_count": null,
   "metadata": {
    "collapsed": true
   },
   "outputs": [],
   "source": []
  }
 ],
 "metadata": {
  "kernelspec": {
   "display_name": "Python 2",
   "language": "python",
   "name": "python2"
  },
  "language_info": {
   "codemirror_mode": {
    "name": "ipython",
    "version": 2
   },
   "file_extension": ".py",
   "mimetype": "text/x-python",
   "name": "python",
   "nbconvert_exporter": "python",
   "pygments_lexer": "ipython2",
   "version": "2.7.11"
  }
 },
 "nbformat": 4,
 "nbformat_minor": 0
}
