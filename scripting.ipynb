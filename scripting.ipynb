{
 "cells": [
  {
   "cell_type": "markdown",
   "metadata": {},
   "source": [
    "# Structural measurements on kinases"
   ]
  },
  {
   "cell_type": "markdown",
   "metadata": {},
   "source": [
    "1. dataclass for loading and working with data\n",
    "2. functions for systematically generating data for multiple targets\n",
    "3. application and results"
   ]
  },
  {
   "cell_type": "markdown",
   "metadata": {},
   "source": [
    "## Code"
   ]
  },
  {
   "cell_type": "markdown",
   "metadata": {},
   "source": [
    "### Imports"
   ]
  },
  {
   "cell_type": "code",
   "execution_count": 2,
   "metadata": {
    "collapsed": false
   },
   "outputs": [
    {
     "name": "stderr",
     "output_type": "stream",
     "text": [
      "/Users/matthias/Documents/hibit.in/development/dev_env/lib/python2.7/site-packages/matplotlib/font_manager.py:273: UserWarning: Matplotlib is building the font cache using fc-list. This may take a moment.\n",
      "  warnings.warn('Matplotlib is building the font cache using fc-list. This may take a moment.')\n"
     ]
    }
   ],
   "source": [
    "%matplotlib inline\n",
    "\n",
    "import numpy as np\n",
    "import pandas as pd\n",
    "import re\n",
    "import os\n",
    "from sympy import Plane, Point3D\n",
    "import copy\n",
    "\n",
    "import matplotlib as mpl\n",
    "mpl.style.use('ggplot')\n",
    "import matplotlib.pyplot as plt\n",
    "\n"
   ]
  },
  {
   "cell_type": "markdown",
   "metadata": {},
   "source": [
    "### Dataclass"
   ]
  },
  {
   "cell_type": "code",
   "execution_count": 8,
   "metadata": {
    "collapsed": false
   },
   "outputs": [],
   "source": [
    "\n",
    "class molData:\n",
    "    def __init__(self,path,data_section = 0):\n",
    "        my_data = pd.read_table(path,skiprows=8,header=None,delim_whitespace=True,index_col=0)\n",
    "        atoms = my_data.loc[:\"@<TRIPOS>BOND\"].iloc[:-1]\n",
    "        atoms.columns = [\"atomID\",\"x\",\"y\",\"z\",\"compound2\",\n",
    "                         \"residueNR\",\"residue\",\"charge\",\"mainChain\"]\n",
    "        resPattern = r\"[A-Z]{3}[0-9]*\"\n",
    "        hohPattern = r\"HOH[0-9]*\"\n",
    "        residueMask = atoms.loc[:,\"residue\"].str.match(resPattern,as_indexer=True).values\n",
    "        hohMask = atoms.loc[:,\"residue\"].str.match(hohPattern,as_indexer=True).values\n",
    "        self.other = atoms.loc[np.logical_not(residueMask)]\n",
    "        self.water = atoms.loc[hohMask]\n",
    "        self.chain = atoms.loc[np.logical_and(residueMask,np.logical_not(hohMask))]\n",
    "        resDigest = self.chain.loc[:,\"residue\"].str.extract('(?P<residueType>[A-Z]{3})(?P<residueID>[0-9]*)')\n",
    "        self.chain = self.chain.join(resDigest)\n",
    "        self.chainIDGroups = self.chain.groupby([\"residueID\",\"atomID\"])\n",
    "        self.chainNRGroups = self.chain.groupby([\"residueNR\",\"atomID\"])\n",
    "        self.bonds = my_data.loc[\"@<TRIPOS>BOND\":\"@<TRIPOS>SUBSTRUCTURE\"].iloc[1:-1]\n",
    "        self.subst = my_data.loc[\"@<TRIPOS>SUBSTRUCTURE\":].iloc[1:-2]\n",
    "\n",
    "    def anchordistance(self,res1,res2): # fix\n",
    "        coord1 = self.old_get_atom_coords(res1)\n",
    "        coord2 = self.old_get_atom_coords(res2)\n",
    "        return self.distance(coord1,coord2)\n",
    "        \n",
    "    def distance(self,coord1,coord2):\n",
    "        return np.linalg.norm(coord1 - coord2)\n",
    "    \n",
    "    def old_get_atom_coords(self, residueID, anchor_atom=2):\n",
    "        \"\"\"\n",
    "            extracts coordinates for target atom according to residue type \n",
    "        \"\"\"\n",
    "        residue = self.chainIDGroups.get_group((residueID))\n",
    "        anchor = residue.iloc[anchor_atom]\n",
    "        coords = anchor.loc[\"x\":\"z\"]\n",
    "        return np.array(coords).astype(np.float32)\n",
    "    \n",
    "    def get_atom_coords1(self, residueID, anchor_atom=\"CA\"): # combine with 2 later\n",
    "        anchor = self.chainIDGroups.get_group((residueID,anchor_atom))\n",
    "        coords = anchor.loc[:,\"x\":\"z\"]\n",
    "        return np.array(coords).astype(np.float32)\n",
    "\n",
    "    def get_atom_coords2(self, residueNR, anchor_atom=\"CA\"):\n",
    "        try:\n",
    "            anchor = self.chainNRGroups.get_group((residueNR,anchor_atom))\n",
    "        except KeyError as e:\n",
    "            e.args += (residueNR,anchor_atom,self.chainNRGroups.groups, )\n",
    "            raise\n",
    "        coords = anchor.loc[:,\"x\":\"z\"]\n",
    "        result = np.array(coords.values).astype(np.float32)[0]\n",
    "        return result\n",
    "    \n",
    "    def get_residue_info(self, residueNR):\n",
    "        anchor = self.chainNRGroups.get_group((residueNR,\"CA\"))\n",
    "        residueType = anchor.loc[:,\"residueType\"].values\n",
    "        residueID = anchor.loc[:,\"residueID\"].values\n",
    "        return (residueID, residueType)\n",
    "        \n",
    "    def chi_angle(self,coords):\n",
    "        vector1 = np.subtract(coords[1],coords[0])\n",
    "        vector2 = np.subtract(coords[2],coords[1])\n",
    "        vector3 = np.subtract(coords[3],coords[2])\n",
    "        normal1 = np.cross(vector1,vector2)\n",
    "        normal2 = np.cross(vector2,vector3)\n",
    "        normNormal1 = np.divide(normal1,np.linalg.norm(normal1))\n",
    "        normNormal2 = np.divide(normal2,np.linalg.norm(normal2))\n",
    "        dot1 = np.dot(normNormal1,normNormal2)\n",
    "        cross1 = np.cross(normNormal1,normNormal2)\n",
    "        # calculation of sign by ((v1xv2)xv2)*(v2xv3)\n",
    "        sign = np.sign(np.dot(np.cross(vector2,normal1),normal2))\n",
    "        if sign == 0: sign = 1\n",
    "        angle1 = sign*np.arccos(dot1)\n",
    "        return angle1\n",
    "        \n",
    "    def calculate_chi1(self,residue):\n",
    "        Amcrd = self.get_atom_coords2(residue, \"N\")\n",
    "        CAcrd = self.get_atom_coords2(residue, \"CA\")\n",
    "        CBcrd = self.get_atom_coords2(residue, \"CB\")\n",
    "        CGcrd = self.get_atom_coords2(residue, \"CG\")\n",
    "        coords = (Amcrd, CAcrd, CBcrd, CGcrd)\n",
    "        return self.chi_angle(coords)\n",
    "    \n",
    "    def calculate_chi2(self,residue):\n",
    "        CAcrd = self.get_atom_coords2(residue, \"CA\")\n",
    "        CBcrd = self.get_atom_coords2(residue, \"CB\")\n",
    "        CGcrd = self.get_atom_coords2(residue, \"CG\")\n",
    "        SDcrd = self.get_atom_coords2(residue, \"SD\")\n",
    "        coords = (CAcrd, CBcrd, CGcrd, SDcrd)\n",
    "        return self.chi_angle(coords)\n",
    "    \n",
    "    def chi_angles(self,residue):\n",
    "        chi1 = self.calculate_chi1(str(residue))\n",
    "        chi2 = self.calculate_chi2(str(residue))\n",
    "        return [chi1, chi2]\n",
    "\n",
    "    "
   ]
  },
  {
   "cell_type": "markdown",
   "metadata": {
    "collapsed": true
   },
   "source": [
    "### Mass calculation method"
   ]
  },
  {
   "cell_type": "code",
   "execution_count": 33,
   "metadata": {
    "collapsed": false
   },
   "outputs": [],
   "source": [
    "\n",
    "\"\"\"\n",
    "bad implementation of key mapping\n",
    "\"\"\"\n",
    "\n",
    "DATASECTIONS = {\n",
    "    \"complex\": \"/complex.mol2\",\n",
    "    \"pocket\": \"/pocket.mol2\"\n",
    "}\n",
    "\n",
    "MEASUREMENTS = {\n",
    "    \"distance\": \"distance\",\n",
    "    \"angles\": \"chi_angles\",\n",
    "    \"gatekeepers\": \"met_gk_id\"\n",
    "}\n",
    "\n",
    "MEASID = {\n",
    "    \"distance\": 0,\n",
    "    \"chi_angles\": 1,\n",
    "    \"met_gk_id\": 2\n",
    "}\n",
    "\n",
    "\"\"\"\n",
    "function: loop through different kinase alternatives and perform measurements\n",
    "\"\"\"\n",
    "def calculate_kinase_data(structure_path, data_section, measurement, res_ids=None):\n",
    "    structures = pd.Series([name for name in os.listdir(structure_path) if os.path.isdir(structure_path + name)])\n",
    "    structure_labels = structures.str.replace(\"chain\",\"\").str.lower().str.replace(\"_alt[ab]\",\"\")\n",
    "    results = pd.DataFrame(index = structure_labels)\n",
    "    if measurement == 0:\n",
    "        results[\"measured\"] = pd.Series()\n",
    "    elif measurement == 1:\n",
    "        results[\"chi1\"] = pd.Series()\n",
    "        results[\"chi2\"] = pd.Series()\n",
    "    elif measurement == 2:\n",
    "        results[\"resID\"] = pd.Series()\n",
    "    fails = []\n",
    "\n",
    "    for structure, structure_label in zip(structures,structure_labels):\n",
    "        myurl = structure_path + structure + DATASECTIONS[data_section]\n",
    "        mydata = molData(myurl,data_section)\n",
    "\n",
    "# DIFFERENT MEASUREMENTS\n",
    "# 1 distances\n",
    "        if measurement == 0:\n",
    "            residueID1 = res_ids[0]\n",
    "            residueID2 = res_ids[1]\n",
    "            results.loc[structure_label,\"measured\"] = mydata.anchordistance(residueID1,residueID2)\n",
    "\n",
    "# 2 chi angles\n",
    "        elif measurement == 1:\n",
    "            if res_ids is None:\n",
    "                res_ids = 45\n",
    "            residueID = res_ids\n",
    "            try:\n",
    "                angles = mydata.chi_angles(residueID)\n",
    "                results.loc[structure_label,\"chi1\"] = angles[0]\n",
    "                results.loc[structure_label,\"chi2\"] = angles[1]\n",
    "            except KeyError as e:\n",
    "                fails.append(structure_label)\n",
    "\n",
    "# 3 gatekeeper\n",
    "        elif measurement == 2:\n",
    "            try:\n",
    "                resID, resType = mydata.get_residue_info(\"45\")\n",
    "            except KeyError as e:\n",
    "                fails.append(structure_label)\n",
    "            if resType == \"MET\":\n",
    "                results.loc[structure_label,\"resID\"] = resID\n",
    "    return (results, fails)\n",
    "\n",
    "\"\"\"\n",
    "function: loop through different kinases and perform kinase data calculation function on each\n",
    "\"\"\"\n",
    "def calculate_organism_data(organism_path,data_section,measurement,res_ids=None):\n",
    "    kinases = pd.Series([name for name in os.listdir(organism_path) if os.path.isdir(organism_path + name)])\n",
    "    measurement = MEASUREMENTS[measurement]\n",
    "    measurement = MEASID[measurement]\n",
    "    if measurement == 0:\n",
    "        results = pd.DataFrame(columns = [\"measured\"])\n",
    "    elif measurement == 1:\n",
    "        results = pd.DataFrame(columns = [\"chi1\",\"chi2\"])\n",
    "    elif measurement == 2:\n",
    "        results = pd.DataFrame(columns = [\"resID\"])\n",
    "    for kinase in kinases:\n",
    "#        print \"starting on \" + kinase\n",
    "        kinase_path = organism_path + kinase + \"/\"\n",
    "        kinase_data = calculate_kinase_data(kinase_path, data_section, measurement, res_ids)\n",
    "        results = results.append(kinase_data[0])\n",
    "    return results\n"
   ]
  },
  {
   "cell_type": "markdown",
   "metadata": {},
   "source": [
    "## Calculate methionine gatekeeper chi angles"
   ]
  },
  {
   "cell_type": "code",
   "execution_count": 4,
   "metadata": {
    "collapsed": false
   },
   "outputs": [],
   "source": [
    "myurl1 = \"/Users/matthias/Documents/hibit.in/KLIFS_LigandBound2/HUMAN/\"\n",
    "myurl2 = \"/Users/matthias/Documents/hibit.in/KLIFS_LigandUnBound2/HUMAN/\"\n",
    "mydata = \"pocket\"\n",
    "mymeasurement = \"angles\"\n",
    "\n",
    "\n"
   ]
  },
  {
   "cell_type": "code",
   "execution_count": 49,
   "metadata": {
    "collapsed": false
   },
   "outputs": [
    {
     "name": "stderr",
     "output_type": "stream",
     "text": [
      "/usr/local/lib/python2.7/site-packages/ipykernel/__main__.py:15: FutureWarning: currently extract(expand=None) means expand=False (return Index/Series/DataFrame) but in a future version of pandas this will be changed to expand=True (return DataFrame)\n"
     ]
    }
   ],
   "source": [
    "dataBound = calculate_organism_data(myurl1, mydata, mymeasurement)\n"
   ]
  },
  {
   "cell_type": "code",
   "execution_count": 13,
   "metadata": {
    "collapsed": false
   },
   "outputs": [
    {
     "name": "stderr",
     "output_type": "stream",
     "text": [
      "/usr/local/lib/python2.7/site-packages/ipykernel/__main__.py:15: FutureWarning: currently extract(expand=None) means expand=False (return Index/Series/DataFrame) but in a future version of pandas this will be changed to expand=True (return DataFrame)\n"
     ]
    }
   ],
   "source": [
    "dataUnbound = calculate_organism_data(myurl2, mydata, mymeasurement)"
   ]
  },
  {
   "cell_type": "code",
   "execution_count": 45,
   "metadata": {
    "collapsed": true
   },
   "outputs": [],
   "source": [
    "dataBound = pd.read_csv(\"/Users/matthias/Documents/hibit.in/development/KinStruct/dataBound.csv\",\n",
    "                        index_col = 0)"
   ]
  },
  {
   "cell_type": "code",
   "execution_count": null,
   "metadata": {
    "collapsed": true
   },
   "outputs": [],
   "source": [
    "\n",
    "dataUnbound = pd.read_csv(\"/Users/matthias/Documents/hibit.in/development/KinStruct/dataUnbound.csv\",\n",
    "                          index_col = 0)"
   ]
  },
  {
   "cell_type": "code",
   "execution_count": 50,
   "metadata": {
    "collapsed": false
   },
   "outputs": [],
   "source": [
    "\n",
    "# radians to degrees\n",
    "\n",
    "dataBound.chi1 = dataBound.chi1.mul(180/np.pi)\n",
    "dataBound.chi2 = dataBound.chi2.mul(180/np.pi)\n"
   ]
  },
  {
   "cell_type": "code",
   "execution_count": null,
   "metadata": {
    "collapsed": true
   },
   "outputs": [],
   "source": [
    "\n",
    "\n",
    "dataUnbound.chi1 = dataUnbound.chi1.mul(180/np.pi)\n",
    "dataUnbound.chi2 = dataUnbound.chi2.mul(180/np.pi)"
   ]
  },
  {
   "cell_type": "code",
   "execution_count": 15,
   "metadata": {
    "collapsed": false
   },
   "outputs": [],
   "source": [
    "dataBound = dataBound.astype(np.float32).drop_duplicates()\n",
    "dataUnbound = dataUnbound.astype(np.float32).drop_duplicates()"
   ]
  },
  {
   "cell_type": "code",
   "execution_count": 71,
   "metadata": {
    "collapsed": false
   },
   "outputs": [],
   "source": [
    "dataBound.to_csv(\"/Users/matthias/Documents/hibit.in/development/KinStruct/dataBound.csv\")"
   ]
  },
  {
   "cell_type": "code",
   "execution_count": 72,
   "metadata": {
    "collapsed": true
   },
   "outputs": [],
   "source": [
    "dataUnbound.to_csv(\"/Users/matthias/Documents/hibit.in/development/KinStruct/dataUnbound.csv\")"
   ]
  },
  {
   "cell_type": "code",
   "execution_count": 36,
   "metadata": {
    "collapsed": false
   },
   "outputs": [],
   "source": [
    "dataUnbound.dropna(axis=0).chi2.values\n",
    "pass\n"
   ]
  },
  {
   "cell_type": "code",
   "execution_count": null,
   "metadata": {
    "collapsed": false
   },
   "outputs": [],
   "source": [
    "dataBound"
   ]
  },
  {
   "cell_type": "code",
   "execution_count": 66,
   "metadata": {
    "collapsed": false
   },
   "outputs": [],
   "source": [
    "\n",
    "angleChi1 = -180\n",
    "angleChi2 = 0\n",
    "\n",
    "dataBoundShift = dataBound.copy()\n",
    "dataBoundShift.chi1[dataBound.chi1.lt(angleChi1)] = dataBound[dataBound.chi1.lt(angleChi1)].chi1.add(360)\n",
    "dataBoundShift.chi2[dataBound.chi2.lt(angleChi2)] = dataBound[dataBound.chi2.lt(angleChi2)].chi2.add(360)\n",
    "\n",
    "dataUnboundShift = dataUnbound.copy()\n",
    "dataUnboundShift.chi1[dataUnbound.chi1.lt(angleChi1)] = dataUnbound[dataUnbound.chi1.lt(angleChi1)].chi1.add(360)\n",
    "dataUnboundShift.chi2[dataUnbound.chi2.lt(angleChi2)] = dataUnbound[dataUnbound.chi2.lt(angleChi2)].chi2.add(360)\n"
   ]
  },
  {
   "cell_type": "markdown",
   "metadata": {},
   "source": [
    "## Plot results\n",
    "\n",
    "there is a weird swapping of axis happening, need to figure out this first"
   ]
  },
  {
   "cell_type": "code",
   "execution_count": 28,
   "metadata": {
    "collapsed": false
   },
   "outputs": [],
   "source": [
    "\n",
    "nonaBound = dataBound.dropna(axis=0)\n",
    "nonaBoundchi1 = nonaBound.chi1\n",
    "nonaBoundchi2 = nonaBound.chi2\n",
    "nonaUnbound = dataUnbound.dropna(axis=0)\n",
    "nonaUnboundchi1 = nonaUnbound.chi1\n",
    "nonaUnboundchi2 = nonaUnbound.chi2\n",
    "binsX = np.linspace(-180,180,50)\n",
    "binsY = np.linspace(-180,180,50)\n",
    "HBound,xedges,yedges = np.histogram2d(nonaBoundchi1.values,nonaBoundchi2.values,bins=(binsX,binsY))\n",
    "HUnbound,xedges,yedges = np.histogram2d(nonaUnboundchi1.values,nonaUnboundchi2.values,bins=(binsX,binsY))\n",
    "HBound = np.transpose(HBound)\n",
    "HUnbound = np.transpose(HUnbound)\n",
    "\n",
    "\"\"\"\n",
    "fig = plt.figure()\n",
    "ax = fig.add_subplot(121)\n",
    "nonaBoundchi1.hist()\n",
    "plt.title(\"chi1\")\n",
    "ax = fig.add_subplot(122)\n",
    "nonaBoundchi2.hist()\n",
    "plt.title(\"chi2\")\n",
    "\n",
    "fig = plt.figure()\n",
    "ax = fig.add_subplot(121)\n",
    "nonaUnboundchi1.hist()\n",
    "plt.title(\"chi1\")\n",
    "ax = fig.add_subplot(122)\n",
    "nonaUnboundchi2.hist()\n",
    "plt.title(\"chi2\")\n",
    "\"\"\"\n",
    "\n",
    "X,Y = np.meshgrid(xedges,yedges)\n"
   ]
  },
  {
   "cell_type": "code",
   "execution_count": null,
   "metadata": {
    "collapsed": false
   },
   "outputs": [],
   "source": [
    "\n",
    "\n",
    "ticks = np.linspace(-180,180,5)\n",
    "tickLocator = mpl.ticker.FixedLocator(ticks)\n",
    "\n",
    "fig1 = plt.figure(figsize = (7,7),dpi = 300)\n",
    "\n",
    "ax1 = fig1.add_subplot(111)\n",
    "ax1.pcolormesh(X,Y,HBound,cmap='magma_r')\n",
    "ax1.xaxis.set_major_locator(copy.copy(tickLocator))\n",
    "ax1.yaxis.set_major_locator(copy.copy(tickLocator))\n",
    "ax1.xaxis.set_label_text(u\"Chi 1 [°]\")\n",
    "ax1.yaxis.set_label_text(u\"Chi 2 [°]\")\n",
    "plt.grid(b=True, which='major', color='0.65', linestyle='-')\n",
    "\n",
    "\n",
    "\n",
    "fig2 = plt.figure(figsize = (7,7),dpi = 300)\n",
    "ax2 = fig2.add_subplot(111)\n",
    "ax2.pcolormesh(X,Y,HUnbound,cmap='magma_r')\n",
    "ax2.xaxis.set_major_locator(copy.copy(tickLocator))\n",
    "ax2.yaxis.set_major_locator(copy.copy(tickLocator))\n",
    "ax2.xaxis.set_label_text(u\"Chi 1 [°]\")\n",
    "ax2.yaxis.set_label_text(u\"Chi 2 [°]\")\n",
    "plt.grid(b=True, which='major', color='0.65', linestyle='-')\n",
    "\n",
    "\n",
    "fig1.savefig(\"/Users/matthias/Documents/hibit.in/development/KinStruct/hist2dBound\")\n",
    "fig2.savefig(\"/Users/matthias/Documents/hibit.in/development/KinStruct/hist2dUnbound\")\n",
    "\n",
    "plt.show()"
   ]
  },
  {
   "cell_type": "code",
   "execution_count": null,
   "metadata": {
    "collapsed": false
   },
   "outputs": [],
   "source": [
    "\n",
    "fig = plt.figure(figsize = (8,8),dpi = 300)\n",
    "ax = fig.add_subplot(111)\n",
    "ax = dataBound.plot.scatter(\"chi1\",\"chi2\",color=\"DarkBlue\",label=\"Ligand Bound\", ax=ax)\n",
    "ax = dataUnbound.plot.scatter(\"chi1\",\"chi2\",color=\"DarkGreen\",label=\"No Ligand\", ax=ax)\n",
    "ax.set_xlim(-180,180)\n",
    "ax.set_ylim(-180,180)\n",
    "ax.xaxis.set_label_text(u\"Chi1 [˚]\")\n",
    "ax.yaxis.set_label_text(u\"Chi2 [˚]\")\n",
    "fig.savefig(\"/Users/matthias/Documents/hibit.in/development/KinStruct/chi_angles1.png\")\n",
    "\n",
    "fig = plt.figure(figsize = (8,8), dpi = 300)\n",
    "ax = fig.add_subplot(111)\n",
    "ax = dataUnbound.plot.scatter(\"chi1\",\"chi2\",color=\"DarkGreen\",label=\"No Ligand\", ax=ax)\n",
    "ax = dataBound.plot.scatter(\"chi1\",\"chi2\",color=\"DarkBlue\",label=\"Ligand Bound\", ax=ax)\n",
    "ax.set_xlim(-180,180)\n",
    "ax.set_ylim(-180,180)\n",
    "fig.savefig(\"/Users/matthias/Documents/hibit.in/development/KinStruct/chi_angles2.png\")\n",
    "\n",
    "fig = plt.figure(figsize = (8,8),dpi = 300)\n",
    "ax = fig.add_subplot(111)\n",
    "ax = dataBoundShift.plot.scatter(\"chi1\",\"chi2\",color=\"DarkBlue\",label=\"Ligand Bound\", ax=ax)\n",
    "ax = dataUnboundShift.plot.scatter(\"chi1\",\"chi2\",color=\"DarkGreen\",label=\"No Ligand\", ax=ax)\n",
    "ax.set_xlim(-180,180)\n",
    "ax.set_ylim(0,360)\n",
    "ax.xaxis.set_label_text(u\"Chi1 [˚]\")\n",
    "ax.yaxis.set_label_text(u\"Chi2 [˚]\")\n",
    "fig.savefig(\"/Users/matthias/Documents/hibit.in/development/KinStruct/chi_angles_shift1.png\")\n",
    "\n",
    "fig = plt.figure(figsize = (8,8), dpi = 300)\n",
    "ax = fig.add_subplot(111)\n",
    "ax = dataUnboundShift.plot.scatter(\"chi1\",\"chi2\",color=\"DarkGreen\",label=\"No Ligand\", ax=ax)\n",
    "ax = dataBoundShift.plot.scatter(\"chi1\",\"chi2\",color=\"DarkBlue\",label=\"Ligand Bound\", ax=ax)\n",
    "ax.set_xlim(-180,180)\n",
    "ax.set_ylim(0,360)\n",
    "fig.savefig(\"/Users/matthias/Documents/hibit.in/development/KinStruct/chi_angles_shift2.png\")\n",
    "\n",
    "plt.show()"
   ]
  },
  {
   "cell_type": "code",
   "execution_count": null,
   "metadata": {
    "collapsed": false
   },
   "outputs": [],
   "source": [
    "\n",
    "xedges = np.linspace(0,np.pi,100)\n",
    "yedges = np.linspace(0,np.pi,100)\n",
    "X, Y = np.meshgrid(xedges, yedges)\n",
    "cmap1 = plt.get_cmap('Blues')\n",
    "cmap2 = plt.get_cmap('Blues')\n",
    "ticks = np.linspace(0,np.pi,5)\n",
    "tickLocator = mpl.ticker.FixedLocator(ticks)\n",
    "tickFormatter = mpl.ticker.FormatStrFormatter('%.2f')\n",
    "\n",
    "H1, xedges1, yedges1 = np.histogram2d(dataBound[\"chi1\"].values,dataBound[\"chi2\"].values,\n",
    "                                      bins=(xedges,yedges))\n",
    "H2, xedges2, yedges2 = np.histogram2d(dataUnbound[\"chi1\"].values,dataUnbound[\"chi2\"].values,\n",
    "                                      bins=(xedges,yedges))\n",
    "\n",
    "fig = plt.figure(figsize = (15,8),dpi = 600)\n",
    "ax1 = fig.add_subplot(121)\n",
    "ax1.set_title(\"Bound data\")\n",
    "ax1.pcolormesh(X,Y,H1,cmap=cmap1)\n",
    "ax1.set_aspect('equal')\n",
    "ax1.xaxis.set_major_locator(copy.copy(tickLocator))\n",
    "ax1.yaxis.set_major_locator(copy.copy(tickLocator))\n",
    "ax1.xaxis.set_major_formatter(tickFormatter)\n",
    "ax1.yaxis.set_major_formatter(tickFormatter)\n",
    "ax1.xaxis.set_label_text(\"Chi 1\")\n",
    "ax1.yaxis.set_label_text(\"Chi 2\")\n",
    "plt.autoscale(True)\n",
    "\n",
    "ax2 = fig.add_subplot(122)\n",
    "ax2.set_title(\"Unbound data\")\n",
    "ax2.pcolormesh(X,Y,H2,cmap=cmap2)\n",
    "ax2.set_aspect('equal')\n",
    "ax2.xaxis.set_major_locator(copy.copy(tickLocator))\n",
    "ax2.yaxis.set_major_locator(copy.copy(tickLocator))\n",
    "ax2.xaxis.set_major_formatter(tickFormatter)\n",
    "ax2.yaxis.set_major_formatter(tickFormatter)\n",
    "ax2.xaxis.set_label_text(\"Chi 1\")\n",
    "ax2.yaxis.set_label_text(\"Chi 2\")\n",
    "plt.autoscale(True)\n",
    "\n",
    "fig.savefig(\"/Users/matthias/Documents/hibit.in/development/KinStruct/fig2.png\")\n"
   ]
  },
  {
   "cell_type": "code",
   "execution_count": null,
   "metadata": {
    "collapsed": false
   },
   "outputs": [],
   "source": [
    "\n",
    "xedges = np.linspace(0,np.pi,100)\n",
    "yedges = np.linspace(0,np.pi,100)\n",
    "X, Y = np.meshgrid(xedges, yedges)\n",
    "cmap1 = plt.get_cmap('Blues')\n",
    "cmap2 = plt.get_cmap('YlOrBr')\n",
    "ticks = np.linspace(0,np.pi,5)\n",
    "tickLocator = mpl.ticker.FixedLocator(ticks)\n",
    "tickFormatter = mpl.ticker.FormatStrFormatter('%.2f')\n",
    "\n",
    "H1, xedges1, yedges1 = np.histogram2d(dataBound[\"chi1\"].values,dataBound[\"chi2\"].values,\n",
    "                                      bins=(xedges,yedges))\n",
    "H2, xedges2, yedges2 = np.histogram2d(dataUnbound[\"chi1\"].values,dataUnbound[\"chi2\"].values,\n",
    "                                      bins=(xedges,yedges))\n",
    "\n",
    "fig = plt.figure(figsize = (8,8),dpi = 600)\n",
    "ax1 = fig.add_subplot(111)\n",
    "ax1.set_title(\"overlay data\")\n",
    "ax1.pcolormesh(X,Y,H1,cmap=cmap1,alpha = 1)\n",
    "ax1.pcolormesh(X,Y,H2,cmap=cmap2,alpha = 0.3)\n",
    "ax1.set_aspect('equal')\n",
    "ax1.xaxis.set_major_locator(copy.copy(tickLocator))\n",
    "ax1.yaxis.set_major_locator(copy.copy(tickLocator))\n",
    "ax1.xaxis.set_major_formatter(tickFormatter)\n",
    "ax1.yaxis.set_major_formatter(tickFormatter)\n",
    "ax1.xaxis.set_label_text(\"Chi 1\")\n",
    "ax1.yaxis.set_label_text(\"Chi 2\")\n",
    "plt.autoscale(True)\n",
    "\n",
    "fig.savefig(\"/Users/matthias/Documents/hibit.in/development/KinStruct/overlay.png\")\n"
   ]
  },
  {
   "cell_type": "markdown",
   "metadata": {},
   "source": [
    "## gatekeeper residue ids"
   ]
  },
  {
   "cell_type": "code",
   "execution_count": 91,
   "metadata": {
    "collapsed": false
   },
   "outputs": [
    {
     "name": "stderr",
     "output_type": "stream",
     "text": [
      "/usr/local/lib/python2.7/site-packages/ipykernel/__main__.py:15: FutureWarning: currently extract(expand=None) means expand=False (return Index/Series/DataFrame) but in a future version of pandas this will be changed to expand=True (return DataFrame)\n"
     ]
    }
   ],
   "source": [
    "myurl1 = \"/Users/matthias/Documents/hibit.in/KLIFS_LigandBound2/HUMAN/\"\n",
    "myurl2 = \"/Users/matthias/Documents/hibit.in/KLIFS_LigandUnBound2/HUMAN/\"\n",
    "mydata = \"pocket\"\n",
    "mymeasurement = \"gatekeepers\"\n",
    "\n",
    "\n",
    "gatekeepersBound = calculate_organism_data(myurl1, mydata, mymeasurement)\n",
    "gatekeepersUnbound = calculate_organism_data(myurl2, mydata, mymeasurement)\n"
   ]
  },
  {
   "cell_type": "code",
   "execution_count": 79,
   "metadata": {
    "collapsed": true
   },
   "outputs": [],
   "source": [
    "gatekeepersBound = pd.read_csv(\"/Users/matthias/Documents/hibit.in/development/KinStruct/gatekeepersBound.csv\",index_col = 0,dtype='str')\n",
    "gatekeepersUnbound = pd.read_csv(\"/Users/matthias/Documents/hibit.in/development/KinStruct/gatekeepersUnbound.csv\", index_col = 0,dtype='str')"
   ]
  },
  {
   "cell_type": "code",
   "execution_count": 92,
   "metadata": {
    "collapsed": false
   },
   "outputs": [],
   "source": [
    "gatekeepersBound.loc[:,\"alternatives\"] = gatekeepersBound.index\n",
    "gatekeepersUnbound.loc[:,\"alternatives\"] = gatekeepersUnbound.index"
   ]
  },
  {
   "cell_type": "code",
   "execution_count": 97,
   "metadata": {
    "collapsed": false
   },
   "outputs": [],
   "source": [
    "gatekeepersBound = gatekeepersBound.drop_duplicates()\n",
    "gatekeepersUnbound = gatekeepersUnbound.drop_duplicates()\n"
   ]
  },
  {
   "cell_type": "code",
   "execution_count": 100,
   "metadata": {
    "collapsed": false
   },
   "outputs": [],
   "source": [
    "gatekeepersBound = gatekeepersBound.drop(\"alternatives\",axis=1)\n",
    "gatekeepersUnbound = gatekeepersUnbound.drop(\"alternatives\",axis=1)"
   ]
  },
  {
   "cell_type": "code",
   "execution_count": null,
   "metadata": {
    "collapsed": false
   },
   "outputs": [],
   "source": [
    "gatekeepersBound"
   ]
  },
  {
   "cell_type": "code",
   "execution_count": 95,
   "metadata": {
    "collapsed": false
   },
   "outputs": [],
   "source": [
    "gatekeepersUnbound.resID = gatekeepersUnbound.resID.str.strip('[]\\'').astype(np.float32)\n",
    "gatekeepersBound.resID = gatekeepersBound.resID.str.strip('[]\\'').astype(np.float32)\n",
    "pass"
   ]
  },
  {
   "cell_type": "code",
   "execution_count": 102,
   "metadata": {
    "collapsed": false
   },
   "outputs": [],
   "source": [
    "gatekeepersBound.to_csv(\"/Users/matthias/Documents/hibit.in/development/KinStruct/gatekeepersBound.csv\")\n",
    "gatekeepersUnbound.to_csv(\"/Users/matthias/Documents/hibit.in/development/KinStruct/gatekeepersUnbound.csv\")"
   ]
  },
  {
   "cell_type": "markdown",
   "metadata": {},
   "source": [
    "# ## Old stuff"
   ]
  },
  {
   "cell_type": "markdown",
   "metadata": {},
   "source": [
    "### Load excel file"
   ]
  },
  {
   "cell_type": "code",
   "execution_count": 8,
   "metadata": {
    "collapsed": false
   },
   "outputs": [],
   "source": [
    "\n",
    "#separate because takes time\n",
    "\n",
    "reference = pd.read_excel(\"/Users/matthias/Documents/hibit.in/KinaseDomainMeasures-Novartis.xlsx\",\n",
    "                          header=0,\n",
    "                          sheetname=0,\n",
    "                          parse_cols=\"B,C,AJ\")\n",
    "\n"
   ]
  },
  {
   "cell_type": "markdown",
   "metadata": {},
   "source": [
    "### Compare calculated vs reference\n",
    "\n",
    "(old stuff, currently doesn't work because of changes in dataclass atom referencing, ergo no calculation)"
   ]
  },
  {
   "cell_type": "code",
   "execution_count": null,
   "metadata": {
    "collapsed": false
   },
   "outputs": [],
   "source": [
    "\n",
    "ref_mod = reference.set_index(\"pdbchain\",drop=False).loc[results.index]\n",
    "ref_mod.loc[:,\"pdbchain_unique\"] = ref_mod.loc[:,\"pdbchain_unique\"].str.replace(r'[\\S]{4}_[abe]_','')\n",
    "ref_mod = ref_mod.drop_duplicates()\n",
    "ref_mod = ref_mod.pivot(index=\"pdbchain\",columns=\"pdbchain_unique\",values=\"Ploop_bend6\").iloc[1:,1:]\n",
    "end_results = pd.concat([results,ref_mod],axis=1)\n",
    "\n",
    "end_results[\"diff1\"] = end_results[\"measured\"].sub(end_results[\"pdb\"],axis=0)\n",
    "end_results[\"diff2\"] = end_results[\"measured\"].sub(end_results[\"pdbredo\"],axis=0)\n",
    "end_results"
   ]
  }
 ],
 "metadata": {
  "kernelspec": {
   "display_name": "Python 2",
   "language": "python",
   "name": "python2"
  },
  "language_info": {
   "codemirror_mode": {
    "name": "ipython",
    "version": 2
   },
   "file_extension": ".py",
   "mimetype": "text/x-python",
   "name": "python",
   "nbconvert_exporter": "python",
   "pygments_lexer": "ipython2",
   "version": "2.7.11"
  }
 },
 "nbformat": 4,
 "nbformat_minor": 0
}
