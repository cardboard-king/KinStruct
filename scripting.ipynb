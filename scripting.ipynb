{
 "cells": [
  {
   "cell_type": "markdown",
   "metadata": {},
   "source": [
    "# Structural measurements on kinases"
   ]
  },
  {
   "cell_type": "markdown",
   "metadata": {},
   "source": [
    "1. dataclass for loading and working with data\n",
    "2. functions for systematically generating data for multiple targets\n",
    "3. application and results"
   ]
  },
  {
   "cell_type": "markdown",
   "metadata": {},
   "source": [
    "## Code"
   ]
  },
  {
   "cell_type": "markdown",
   "metadata": {},
   "source": [
    "### Imports"
   ]
  },
  {
   "cell_type": "code",
   "execution_count": 2,
   "metadata": {
    "collapsed": false
   },
   "outputs": [
    {
     "name": "stderr",
     "output_type": "stream",
     "text": [
      "/Users/matthias/Documents/hibit.in/development/dev_env/lib/python2.7/site-packages/matplotlib/font_manager.py:273: UserWarning: Matplotlib is building the font cache using fc-list. This may take a moment.\n",
      "  warnings.warn('Matplotlib is building the font cache using fc-list. This may take a moment.')\n"
     ]
    }
   ],
   "source": [
    "%matplotlib inline\n",
    "\n",
    "import numpy as np\n",
    "import pandas as pd\n",
    "import re\n",
    "import os\n",
    "from sympy import Plane, Point3D\n",
    "import copy\n",
    "\n",
    "import matplotlib as mpl\n",
    "mpl.style.use('ggplot')\n",
    "import matplotlib.pyplot as plt\n",
    "\n"
   ]
  },
  {
   "cell_type": "markdown",
   "metadata": {},
   "source": [
    "### Dataclass"
   ]
  },
  {
   "cell_type": "code",
   "execution_count": 8,
   "metadata": {
    "collapsed": false
   },
   "outputs": [],
   "source": [
    "\n",
    "class molData:\n",
    "    def __init__(self,path,data_section = 0):\n",
    "        my_data = pd.read_table(path,skiprows=8,header=None,delim_whitespace=True,index_col=0)\n",
    "        atoms = my_data.loc[:\"@<TRIPOS>BOND\"].iloc[:-1]\n",
    "        atoms.columns = [\"atomID\",\"x\",\"y\",\"z\",\"compound2\",\n",
    "                         \"residueNR\",\"residue\",\"charge\",\"mainChain\"]\n",
    "        resPattern = r\"[A-Z]{3}[0-9]*\"\n",
    "        hohPattern = r\"HOH[0-9]*\"\n",
    "        residueMask = atoms.loc[:,\"residue\"].str.match(resPattern,as_indexer=True).values\n",
    "        hohMask = atoms.loc[:,\"residue\"].str.match(hohPattern,as_indexer=True).values\n",
    "        self.other = atoms.loc[np.logical_not(residueMask)]\n",
    "        self.water = atoms.loc[hohMask]\n",
    "        self.chain = atoms.loc[np.logical_and(residueMask,np.logical_not(hohMask))]\n",
    "        resDigest = self.chain.loc[:,\"residue\"].str.extract('(?P<residueType>[A-Z]{3})(?P<residueID>[0-9]*)')\n",
    "        self.chain = self.chain.join(resDigest)\n",
    "        self.chainIDGroups = self.chain.groupby([\"residueID\",\"atomID\"])\n",
    "        self.chainNRGroups = self.chain.groupby([\"residueNR\",\"atomID\"])\n",
    "        self.bonds = my_data.loc[\"@<TRIPOS>BOND\":\"@<TRIPOS>SUBSTRUCTURE\"].iloc[1:-1]\n",
    "        self.subst = my_data.loc[\"@<TRIPOS>SUBSTRUCTURE\":].iloc[1:-2]\n",
    "\n",
    "    def anchordistance(self,res1,res2): # fix\n",
    "        coord1 = self.old_get_atom_coords(res1)\n",
    "        coord2 = self.old_get_atom_coords(res2)\n",
    "        return self.distance(coord1,coord2)\n",
    "        \n",
    "    def distance(self,coord1,coord2):\n",
    "        return np.linalg.norm(coord1 - coord2)\n",
    "    \n",
    "    def old_get_atom_coords(self, residueID, anchor_atom=2):\n",
    "        \"\"\"\n",
    "            extracts coordinates for target atom according to residue type \n",
    "        \"\"\"\n",
    "        residue = self.chainIDGroups.get_group((residueID))\n",
    "        anchor = residue.iloc[anchor_atom]\n",
    "        coords = anchor.loc[\"x\":\"z\"]\n",
    "        return np.array(coords).astype(np.float32)\n",
    "    \n",
    "    def get_atom_coords1(self, residueID, anchor_atom=\"CA\"): # combine with 2 later\n",
    "        anchor = self.chainIDGroups.get_group((residueID,anchor_atom))\n",
    "        coords = anchor.loc[:,\"x\":\"z\"]\n",
    "        return np.array(coords).astype(np.float32)\n",
    "\n",
    "    def get_atom_coords2(self, residueNR, anchor_atom=\"CA\"):\n",
    "        try:\n",
    "            anchor = self.chainNRGroups.get_group((residueNR,anchor_atom))\n",
    "        except KeyError as e:\n",
    "            e.args += (residueNR,anchor_atom,self.chainNRGroups.groups, )\n",
    "            raise\n",
    "        coords = anchor.loc[:,\"x\":\"z\"]\n",
    "        result = np.array(coords.values).astype(np.float32)[0]\n",
    "        return result\n",
    "    \n",
    "    def get_residue_info(self, residueNR):\n",
    "        anchor = self.chainNRGroups.get_group((residueNR,\"CA\"))\n",
    "        residueType = anchor.loc[:,\"residueType\"].values\n",
    "        residueID = anchor.loc[:,\"residueID\"].values\n",
    "        return (residueID, residueType)\n",
    "        \n",
    "    def chi_angle(self,coords):\n",
    "        vector1 = np.subtract(coords[1],coords[0])\n",
    "        vector2 = np.subtract(coords[2],coords[1])\n",
    "        vector3 = np.subtract(coords[3],coords[2])\n",
    "        normal1 = np.cross(vector1,vector2)\n",
    "        normal2 = np.cross(vector2,vector3)\n",
    "        normNormal1 = np.divide(normal1,np.linalg.norm(normal1))\n",
    "        normNormal2 = np.divide(normal2,np.linalg.norm(normal2))\n",
    "        dot1 = np.dot(normNormal1,normNormal2)\n",
    "        cross1 = np.cross(normNormal1,normNormal2)\n",
    "        # calculation of sign by ((v1xv2)xv2)*(v2xv3)\n",
    "        sign = np.sign(np.dot(np.cross(vector2,normal1),normal2))\n",
    "        if sign == 0: sign = 1\n",
    "        angle1 = sign*np.arccos(dot1)\n",
    "        return angle1\n",
    "        \n",
    "    def calculate_chi1(self,residue):\n",
    "        Amcrd = self.get_atom_coords2(residue, \"N\")\n",
    "        CAcrd = self.get_atom_coords2(residue, \"CA\")\n",
    "        CBcrd = self.get_atom_coords2(residue, \"CB\")\n",
    "        CGcrd = self.get_atom_coords2(residue, \"CG\")\n",
    "        coords = (Amcrd, CAcrd, CBcrd, CGcrd)\n",
    "        return self.chi_angle(coords)\n",
    "    \n",
    "    def calculate_chi2(self,residue):\n",
    "        CAcrd = self.get_atom_coords2(residue, \"CA\")\n",
    "        CBcrd = self.get_atom_coords2(residue, \"CB\")\n",
    "        CGcrd = self.get_atom_coords2(residue, \"CG\")\n",
    "        SDcrd = self.get_atom_coords2(residue, \"SD\")\n",
    "        coords = (CAcrd, CBcrd, CGcrd, SDcrd)\n",
    "        return self.chi_angle(coords)\n",
    "    \n",
    "    def chi_angles(self,residue):\n",
    "        chi1 = self.calculate_chi1(str(residue))\n",
    "        chi2 = self.calculate_chi2(str(residue))\n",
    "        return [chi1, chi2]\n",
    "\n",
    "    "
   ]
  },
  {
   "cell_type": "markdown",
   "metadata": {
    "collapsed": true
   },
   "source": [
    "### Mass calculation method"
   ]
  },
  {
   "cell_type": "code",
   "execution_count": 33,
   "metadata": {
    "collapsed": false
   },
   "outputs": [],
   "source": [
    "\n",
    "\"\"\"\n",
    "bad implementation of key mapping\n",
    "\"\"\"\n",
    "\n",
    "DATASECTIONS = {\n",
    "    \"complex\": \"/complex.mol2\",\n",
    "    \"pocket\": \"/pocket.mol2\"\n",
    "}\n",
    "\n",
    "MEASUREMENTS = {\n",
    "    \"distance\": \"distance\",\n",
    "    \"angles\": \"chi_angles\",\n",
    "    \"gatekeepers\": \"met_gk_id\"\n",
    "}\n",
    "\n",
    "MEASID = {\n",
    "    \"distance\": 0,\n",
    "    \"chi_angles\": 1,\n",
    "    \"met_gk_id\": 2\n",
    "}\n",
    "\n",
    "\"\"\"\n",
    "function: loop through different kinase alternatives and perform measurements\n",
    "\"\"\"\n",
    "def calculate_kinase_data(structure_path, data_section, measurement, res_ids=None):\n",
    "    structures = pd.Series([name for name in os.listdir(structure_path) if os.path.isdir(structure_path + name)])\n",
    "    structure_labels = structures.str.replace(\"chain\",\"\").str.lower().str.replace(\"_alt[ab]\",\"\")\n",
    "    results = pd.DataFrame(index = structure_labels)\n",
    "    if measurement == 0:\n",
    "        results[\"measured\"] = pd.Series()\n",
    "    elif measurement == 1:\n",
    "        results[\"chi1\"] = pd.Series()\n",
    "        results[\"chi2\"] = pd.Series()\n",
    "    elif measurement == 2:\n",
    "        results[\"resID\"] = pd.Series()\n",
    "    fails = []\n",
    "\n",
    "    for structure, structure_label in zip(structures,structure_labels):\n",
    "        myurl = structure_path + structure + DATASECTIONS[data_section]\n",
    "        mydata = molData(myurl,data_section)\n",
    "\n",
    "# DIFFERENT MEASUREMENTS\n",
    "# 1 distances\n",
    "        if measurement == 0:\n",
    "            residueID1 = res_ids[0]\n",
    "            residueID2 = res_ids[1]\n",
    "            results.loc[structure_label,\"measured\"] = mydata.anchordistance(residueID1,residueID2)\n",
    "\n",
    "# 2 chi angles\n",
    "        elif measurement == 1:\n",
    "            if res_ids is None:\n",
    "                res_ids = 45\n",
    "            residueID = res_ids\n",
    "            try:\n",
    "                angles = mydata.chi_angles(residueID)\n",
    "                results.loc[structure_label,\"chi1\"] = angles[0]\n",
    "                results.loc[structure_label,\"chi2\"] = angles[1]\n",
    "            except KeyError as e:\n",
    "                fails.append(structure_label)\n",
    "\n",
    "# 3 gatekeeper\n",
    "        elif measurement == 2:\n",
    "            try:\n",
    "                resID, resType = mydata.get_residue_info(\"45\")\n",
    "            except KeyError as e:\n",
    "                fails.append(structure_label)\n",
    "            if resType == \"MET\":\n",
    "                results.loc[structure_label,\"resID\"] = resID\n",
    "    return (results, fails)\n",
    "\n",
    "\"\"\"\n",
    "function: loop through different kinases and perform kinase data calculation function on each\n",
    "\"\"\"\n",
    "def calculate_organism_data(organism_path,data_section,measurement,res_ids=None):\n",
    "    kinases = pd.Series([name for name in os.listdir(organism_path) if os.path.isdir(organism_path + name)])\n",
    "    measurement = MEASUREMENTS[measurement]\n",
    "    measurement = MEASID[measurement]\n",
    "    if measurement == 0:\n",
    "        results = pd.DataFrame(columns = [\"measured\"])\n",
    "    elif measurement == 1:\n",
    "        results = pd.DataFrame(columns = [\"chi1\",\"chi2\"])\n",
    "    elif measurement == 2:\n",
    "        results = pd.DataFrame(columns = [\"resID\"])\n",
    "    for kinase in kinases:\n",
    "#        print \"starting on \" + kinase\n",
    "        kinase_path = organism_path + kinase + \"/\"\n",
    "        kinase_data = calculate_kinase_data(kinase_path, data_section, measurement, res_ids)\n",
    "        results = results.append(kinase_data[0])\n",
    "    return results\n"
   ]
  },
  {
   "cell_type": "markdown",
   "metadata": {},
   "source": [
    "## Calculate methionine gatekeeper chi angles"
   ]
  },
  {
   "cell_type": "code",
   "execution_count": 4,
   "metadata": {
    "collapsed": false
   },
   "outputs": [],
   "source": [
    "myurl1 = \"/Users/matthias/Documents/hibit.in/KLIFS_LigandBound2/HUMAN/\"\n",
    "myurl2 = \"/Users/matthias/Documents/hibit.in/KLIFS_LigandUnBound2/HUMAN/\"\n",
    "mydata = \"pocket\"\n",
    "mymeasurement = \"angles\"\n",
    "\n",
    "\n"
   ]
  },
  {
   "cell_type": "code",
   "execution_count": 49,
   "metadata": {
    "collapsed": false
   },
   "outputs": [
    {
     "name": "stderr",
     "output_type": "stream",
     "text": [
      "/usr/local/lib/python2.7/site-packages/ipykernel/__main__.py:15: FutureWarning: currently extract(expand=None) means expand=False (return Index/Series/DataFrame) but in a future version of pandas this will be changed to expand=True (return DataFrame)\n"
     ]
    }
   ],
   "source": [
    "dataBound = calculate_organism_data(myurl1, mydata, mymeasurement)\n"
   ]
  },
  {
   "cell_type": "code",
   "execution_count": 13,
   "metadata": {
    "collapsed": false
   },
   "outputs": [
    {
     "name": "stderr",
     "output_type": "stream",
     "text": [
      "/usr/local/lib/python2.7/site-packages/ipykernel/__main__.py:15: FutureWarning: currently extract(expand=None) means expand=False (return Index/Series/DataFrame) but in a future version of pandas this will be changed to expand=True (return DataFrame)\n"
     ]
    }
   ],
   "source": [
    "dataUnbound = calculate_organism_data(myurl2, mydata, mymeasurement)"
   ]
  },
  {
   "cell_type": "code",
   "execution_count": 45,
   "metadata": {
    "collapsed": true
   },
   "outputs": [],
   "source": [
    "dataBound = pd.read_csv(\"/Users/matthias/Documents/hibit.in/development/KinStruct/dataBound.csv\",\n",
    "                        index_col = 0)"
   ]
  },
  {
   "cell_type": "code",
   "execution_count": null,
   "metadata": {
    "collapsed": true
   },
   "outputs": [],
   "source": [
    "\n",
    "dataUnbound = pd.read_csv(\"/Users/matthias/Documents/hibit.in/development/KinStruct/dataUnbound.csv\",\n",
    "                          index_col = 0)"
   ]
  },
  {
   "cell_type": "code",
   "execution_count": 50,
   "metadata": {
    "collapsed": false
   },
   "outputs": [],
   "source": [
    "\n",
    "# radians to degrees\n",
    "\n",
    "dataBound.chi1 = dataBound.chi1.mul(180/np.pi)\n",
    "dataBound.chi2 = dataBound.chi2.mul(180/np.pi)\n"
   ]
  },
  {
   "cell_type": "code",
   "execution_count": null,
   "metadata": {
    "collapsed": true
   },
   "outputs": [],
   "source": [
    "\n",
    "\n",
    "dataUnbound.chi1 = dataUnbound.chi1.mul(180/np.pi)\n",
    "dataUnbound.chi2 = dataUnbound.chi2.mul(180/np.pi)"
   ]
  },
  {
   "cell_type": "code",
   "execution_count": 15,
   "metadata": {
    "collapsed": false
   },
   "outputs": [],
   "source": [
    "dataBound = dataBound.astype(np.float32).drop_duplicates()\n",
    "dataUnbound = dataUnbound.astype(np.float32).drop_duplicates()"
   ]
  },
  {
   "cell_type": "code",
   "execution_count": 42,
   "metadata": {
    "collapsed": false
   },
   "outputs": [],
   "source": [
    "dataBound.to_csv(\"/Users/matthias/Documents/hibit.in/development/KinStruct/dataBound.csv\")"
   ]
  },
  {
   "cell_type": "code",
   "execution_count": 35,
   "metadata": {
    "collapsed": true
   },
   "outputs": [],
   "source": [
    "dataUnbound.to_csv(\"/Users/matthias/Documents/hibit.in/development/KinStruct/dataUnbound.csv\")"
   ]
  },
  {
   "cell_type": "code",
   "execution_count": 36,
   "metadata": {
    "collapsed": false
   },
   "outputs": [],
   "source": [
    "dataUnbound.dropna(axis=0).chi2.values\n",
    "pass\n"
   ]
  },
  {
   "cell_type": "code",
   "execution_count": 66,
   "metadata": {
    "collapsed": false
   },
   "outputs": [],
   "source": [
    "\n",
    "angleChi1 = -180\n",
    "angleChi2 = 0\n",
    "\n",
    "dataBoundShift = dataBound.copy()\n",
    "dataBoundShift.chi1[dataBound.chi1.lt(angleChi1)] = dataBound[dataBound.chi1.lt(angleChi1)].chi1.add(360)\n",
    "dataBoundShift.chi2[dataBound.chi2.lt(angleChi2)] = dataBound[dataBound.chi2.lt(angleChi2)].chi2.add(360)\n",
    "\n",
    "dataUnboundShift = dataUnbound.copy()\n",
    "dataUnboundShift.chi1[dataUnbound.chi1.lt(angleChi1)] = dataUnbound[dataUnbound.chi1.lt(angleChi1)].chi1.add(360)\n",
    "dataUnboundShift.chi2[dataUnbound.chi2.lt(angleChi2)] = dataUnbound[dataUnbound.chi2.lt(angleChi2)].chi2.add(360)\n"
   ]
  },
  {
   "cell_type": "markdown",
   "metadata": {},
   "source": [
    "## Plot results\n",
    "\n",
    "there is a weird swapping of axis happening, need to figure out this first"
   ]
  },
  {
   "cell_type": "code",
   "execution_count": 28,
   "metadata": {
    "collapsed": false
   },
   "outputs": [],
   "source": [
    "\n",
    "nonaBound = dataBound.dropna(axis=0)\n",
    "nonaBoundchi1 = nonaBound.chi1\n",
    "nonaBoundchi2 = nonaBound.chi2\n",
    "nonaUnbound = dataUnbound.dropna(axis=0)\n",
    "nonaUnboundchi1 = nonaUnbound.chi1\n",
    "nonaUnboundchi2 = nonaUnbound.chi2\n",
    "binsX = np.linspace(-180,180,50)\n",
    "binsY = np.linspace(-180,180,50)\n",
    "HBound,xedges,yedges = np.histogram2d(nonaBoundchi1.values,nonaBoundchi2.values,bins=(binsX,binsY))\n",
    "HUnbound,xedges,yedges = np.histogram2d(nonaUnboundchi1.values,nonaUnboundchi2.values,bins=(binsX,binsY))\n",
    "HBound = np.transpose(HBound)\n",
    "HUnbound = np.transpose(HUnbound)\n",
    "\n",
    "\"\"\"\n",
    "fig = plt.figure()\n",
    "ax = fig.add_subplot(121)\n",
    "nonaBoundchi1.hist()\n",
    "plt.title(\"chi1\")\n",
    "ax = fig.add_subplot(122)\n",
    "nonaBoundchi2.hist()\n",
    "plt.title(\"chi2\")\n",
    "\n",
    "fig = plt.figure()\n",
    "ax = fig.add_subplot(121)\n",
    "nonaUnboundchi1.hist()\n",
    "plt.title(\"chi1\")\n",
    "ax = fig.add_subplot(122)\n",
    "nonaUnboundchi2.hist()\n",
    "plt.title(\"chi2\")\n",
    "\"\"\"\n",
    "\n",
    "X,Y = np.meshgrid(xedges,yedges)\n"
   ]
  },
  {
   "cell_type": "code",
   "execution_count": 31,
   "metadata": {
    "collapsed": false
   },
   "outputs": [
    {
     "data": {
      "image/png": "[encoded data removed]",
      "text/plain": [
       "<matplotlib.figure.Figure at 0x105be1450>"
      ]
     },
     "metadata": {},
     "output_type": "display_data"
    },
    {
     "data": {
      "image/png": "[encoded data removed]",
      "text/plain": [
       "<matplotlib.figure.Figure at 0x105d90e10>"
      ]
     },
     "metadata": {},
     "output_type": "display_data"
    }
   ],
   "source": [
    "\n",
    "\n",
    "ticks = np.linspace(-180,180,5)\n",
    "tickLocator = mpl.ticker.FixedLocator(ticks)\n",
    "\n",
    "fig1 = plt.figure(figsize = (7,7),dpi = 300)\n",
    "\n",
    "ax1 = fig1.add_subplot(111)\n",
    "ax1.pcolormesh(X,Y,HBound,cmap='magma_r')\n",
    "ax1.xaxis.set_major_locator(copy.copy(tickLocator))\n",
    "ax1.yaxis.set_major_locator(copy.copy(tickLocator))\n",
    "ax1.xaxis.set_label_text(u\"Chi 1 [°]\")\n",
    "ax1.yaxis.set_label_text(u\"Chi 2 [°]\")\n",
    "plt.grid(b=True, which='major', color='0.65', linestyle='-')\n",
    "\n",
    "\n",
    "\n",
    "fig2 = plt.figure(figsize = (7,7),dpi = 300)\n",
    "ax2 = fig2.add_subplot(111)\n",
    "ax2.pcolormesh(X,Y,HUnbound,cmap='magma_r')\n",
    "ax2.xaxis.set_major_locator(copy.copy(tickLocator))\n",
    "ax2.yaxis.set_major_locator(copy.copy(tickLocator))\n",
    "ax2.xaxis.set_label_text(u\"Chi 1 [°]\")\n",
    "ax2.yaxis.set_label_text(u\"Chi 2 [°]\")\n",
    "plt.grid(b=True, which='major', color='0.65', linestyle='-')\n",
    "\n",
    "\n",
    "fig1.savefig(\"/Users/matthias/Documents/hibit.in/development/KinStruct/hist2dBound\")\n",
    "fig2.savefig(\"/Users/matthias/Documents/hibit.in/development/KinStruct/hist2dUnbound\")\n",
    "\n",
    "plt.show()"
   ]
  },
  {
   "cell_type": "code",
   "execution_count": 68,
   "metadata": {
    "collapsed": false
   },
   "outputs": [
    {
     "data": {
      "image/png": "[encoded data removed]",
      "text/plain": [
       "<matplotlib.figure.Figure at 0x10571c3d0>"
      ]
     },
     "metadata": {},
     "output_type": "display_data"
    },
    {
     "data": {
      "image/png": "[encoded data removed]",
      "text/plain": [
       "<matplotlib.figure.Figure at 0x106950cd0>"
      ]
     },
     "metadata": {},
     "output_type": "display_data"
    },
    {
     "data": {
      "image/png": "[encoded data removed]",
      "text/plain": [
       "<matplotlib.figure.Figure at 0x1054a4c90>"
      ]
     },
     "metadata": {},
     "output_type": "display_data"
    },
    {
     "data": {
      "image/png": "[encoded data removed]",
      "text/plain": [
       "<matplotlib.figure.Figure at 0x10337ec90>"
      ]
     },
     "metadata": {},
     "output_type": "display_data"
    }
   ],
   "source": [
    "\n",
    "fig = plt.figure(figsize = (8,8),dpi = 300)\n",
    "ax = fig.add_subplot(111)\n",
    "ax = dataBound.plot.scatter(\"chi1\",\"chi2\",color=\"DarkBlue\",label=\"Ligand Bound\", ax=ax)\n",
    "ax = dataUnbound.plot.scatter(\"chi1\",\"chi2\",color=\"DarkGreen\",label=\"No Ligand\", ax=ax)\n",
    "ax.set_xlim(-180,180)\n",
    "ax.set_ylim(-180,180)\n",
    "ax.xaxis.set_label_text(u\"Chi1 [˚]\")\n",
    "ax.yaxis.set_label_text(u\"Chi2 [˚]\")\n",
    "fig.savefig(\"/Users/matthias/Documents/hibit.in/development/KinStruct/chi_angles1.png\")\n",
    "\n",
    "fig = plt.figure(figsize = (8,8), dpi = 300)\n",
    "ax = fig.add_subplot(111)\n",
    "ax = dataUnbound.plot.scatter(\"chi1\",\"chi2\",color=\"DarkGreen\",label=\"No Ligand\", ax=ax)\n",
    "ax = dataBound.plot.scatter(\"chi1\",\"chi2\",color=\"DarkBlue\",label=\"Ligand Bound\", ax=ax)\n",
    "ax.set_xlim(-180,180)\n",
    "ax.set_ylim(-180,180)\n",
    "fig.savefig(\"/Users/matthias/Documents/hibit.in/development/KinStruct/chi_angles2.png\")\n",
    "\n",
    "fig = plt.figure(figsize = (8,8),dpi = 300)\n",
    "ax = fig.add_subplot(111)\n",
    "ax = dataBoundShift.plot.scatter(\"chi1\",\"chi2\",color=\"DarkBlue\",label=\"Ligand Bound\", ax=ax)\n",
    "ax = dataUnboundShift.plot.scatter(\"chi1\",\"chi2\",color=\"DarkGreen\",label=\"No Ligand\", ax=ax)\n",
    "ax.set_xlim(-180,180)\n",
    "ax.set_ylim(0,360)\n",
    "ax.xaxis.set_label_text(u\"Chi1 [˚]\")\n",
    "ax.yaxis.set_label_text(u\"Chi2 [˚]\")\n",
    "#fig.savefig(\"/Users/matthias/Documents/hibit.in/development/KinStruct/chi_angles1.png\")\n",
    "\n",
    "fig = plt.figure(figsize = (8,8), dpi = 300)\n",
    "ax = fig.add_subplot(111)\n",
    "ax = dataUnboundShift.plot.scatter(\"chi1\",\"chi2\",color=\"DarkGreen\",label=\"No Ligand\", ax=ax)\n",
    "ax = dataBoundShift.plot.scatter(\"chi1\",\"chi2\",color=\"DarkBlue\",label=\"Ligand Bound\", ax=ax)\n",
    "ax.set_xlim(-180,180)\n",
    "ax.set_ylim(0,360)\n",
    "#fig.savefig(\"/Users/matthias/Documents/hibit.in/development/KinStruct/chi_angles2.png\")\n",
    "\n",
    "plt.show()"
   ]
  },
  {
   "cell_type": "code",
   "execution_count": 49,
   "metadata": {
    "collapsed": false
   },
   "outputs": [
    {
     "data": {
      "image/png": "[encoded data removed]",
      "text/plain": [
       "<matplotlib.figure.Figure at 0x114034590>"
      ]
     },
     "metadata": {},
     "output_type": "display_data"
    }
   ],
   "source": [
    "\n",
    "xedges = np.linspace(0,np.pi,100)\n",
    "yedges = np.linspace(0,np.pi,100)\n",
    "X, Y = np.meshgrid(xedges, yedges)\n",
    "cmap1 = plt.get_cmap('Blues')\n",
    "cmap2 = plt.get_cmap('Blues')\n",
    "ticks = np.linspace(0,np.pi,5)\n",
    "tickLocator = mpl.ticker.FixedLocator(ticks)\n",
    "tickFormatter = mpl.ticker.FormatStrFormatter('%.2f')\n",
    "\n",
    "H1, xedges1, yedges1 = np.histogram2d(dataBound[\"chi1\"].values,dataBound[\"chi2\"].values,\n",
    "                                      bins=(xedges,yedges))\n",
    "H2, xedges2, yedges2 = np.histogram2d(dataUnbound[\"chi1\"].values,dataUnbound[\"chi2\"].values,\n",
    "                                      bins=(xedges,yedges))\n",
    "\n",
    "fig = plt.figure(figsize = (15,8),dpi = 600)\n",
    "ax1 = fig.add_subplot(121)\n",
    "ax1.set_title(\"Bound data\")\n",
    "ax1.pcolormesh(X,Y,H1,cmap=cmap1)\n",
    "ax1.set_aspect('equal')\n",
    "ax1.xaxis.set_major_locator(copy.copy(tickLocator))\n",
    "ax1.yaxis.set_major_locator(copy.copy(tickLocator))\n",
    "ax1.xaxis.set_major_formatter(tickFormatter)\n",
    "ax1.yaxis.set_major_formatter(tickFormatter)\n",
    "ax1.xaxis.set_label_text(\"Chi 1\")\n",
    "ax1.yaxis.set_label_text(\"Chi 2\")\n",
    "plt.autoscale(True)\n",
    "\n",
    "ax2 = fig.add_subplot(122)\n",
    "ax2.set_title(\"Unbound data\")\n",
    "ax2.pcolormesh(X,Y,H2,cmap=cmap2)\n",
    "ax2.set_aspect('equal')\n",
    "ax2.xaxis.set_major_locator(copy.copy(tickLocator))\n",
    "ax2.yaxis.set_major_locator(copy.copy(tickLocator))\n",
    "ax2.xaxis.set_major_formatter(tickFormatter)\n",
    "ax2.yaxis.set_major_formatter(tickFormatter)\n",
    "ax2.xaxis.set_label_text(\"Chi 1\")\n",
    "ax2.yaxis.set_label_text(\"Chi 2\")\n",
    "plt.autoscale(True)\n",
    "\n",
    "fig.savefig(\"/Users/matthias/Documents/hibit.in/development/KinStruct/fig2.png\")\n"
   ]
  },
  {
   "cell_type": "code",
   "execution_count": 132,
   "metadata": {
    "collapsed": false
   },
   "outputs": [
    {
     "data": {
      "image/png": "[encoded data removed]",
      "text/plain": [
       "<matplotlib.figure.Figure at 0x11505a7d0>"
      ]
     },
     "metadata": {},
     "output_type": "display_data"
    }
   ],
   "source": [
    "\n",
    "xedges = np.linspace(0,np.pi,100)\n",
    "yedges = np.linspace(0,np.pi,100)\n",
    "X, Y = np.meshgrid(xedges, yedges)\n",
    "cmap1 = plt.get_cmap('Blues')\n",
    "cmap2 = plt.get_cmap('YlOrBr')\n",
    "ticks = np.linspace(0,np.pi,5)\n",
    "tickLocator = mpl.ticker.FixedLocator(ticks)\n",
    "tickFormatter = mpl.ticker.FormatStrFormatter('%.2f')\n",
    "\n",
    "H1, xedges1, yedges1 = np.histogram2d(dataBound[\"chi1\"].values,dataBound[\"chi2\"].values,\n",
    "                                      bins=(xedges,yedges))\n",
    "H2, xedges2, yedges2 = np.histogram2d(dataUnbound[\"chi1\"].values,dataUnbound[\"chi2\"].values,\n",
    "                                      bins=(xedges,yedges))\n",
    "\n",
    "fig = plt.figure(figsize = (8,8),dpi = 600)\n",
    "ax1 = fig.add_subplot(111)\n",
    "ax1.set_title(\"overlay data\")\n",
    "ax1.pcolormesh(X,Y,H1,cmap=cmap1,alpha = 1)\n",
    "ax1.pcolormesh(X,Y,H2,cmap=cmap2,alpha = 0.3)\n",
    "ax1.set_aspect('equal')\n",
    "ax1.xaxis.set_major_locator(copy.copy(tickLocator))\n",
    "ax1.yaxis.set_major_locator(copy.copy(tickLocator))\n",
    "ax1.xaxis.set_major_formatter(tickFormatter)\n",
    "ax1.yaxis.set_major_formatter(tickFormatter)\n",
    "ax1.xaxis.set_label_text(\"Chi 1\")\n",
    "ax1.yaxis.set_label_text(\"Chi 2\")\n",
    "plt.autoscale(True)\n",
    "\n",
    "fig.savefig(\"/Users/matthias/Documents/hibit.in/development/KinStruct/overlay.png\")\n"
   ]
  },
  {
   "cell_type": "markdown",
   "metadata": {},
   "source": [
    "## gatekeeper residue ids"
   ]
  },
  {
   "cell_type": "code",
   "execution_count": 91,
   "metadata": {
    "collapsed": false
   },
   "outputs": [
    {
     "name": "stderr",
     "output_type": "stream",
     "text": [
      "/usr/local/lib/python2.7/site-packages/ipykernel/__main__.py:15: FutureWarning: currently extract(expand=None) means expand=False (return Index/Series/DataFrame) but in a future version of pandas this will be changed to expand=True (return DataFrame)\n"
     ]
    }
   ],
   "source": [
    "myurl1 = \"/Users/matthias/Documents/hibit.in/KLIFS_LigandBound2/HUMAN/\"\n",
    "myurl2 = \"/Users/matthias/Documents/hibit.in/KLIFS_LigandUnBound2/HUMAN/\"\n",
    "mydata = \"pocket\"\n",
    "mymeasurement = \"gatekeepers\"\n",
    "\n",
    "\n",
    "gatekeepersBound = calculate_organism_data(myurl1, mydata, mymeasurement)\n",
    "gatekeepersUnbound = calculate_organism_data(myurl2, mydata, mymeasurement)\n"
   ]
  },
  {
   "cell_type": "code",
   "execution_count": 79,
   "metadata": {
    "collapsed": true
   },
   "outputs": [],
   "source": [
    "gatekeepersBound = pd.read_csv(\"/Users/matthias/Documents/hibit.in/development/KinStruct/gatekeepersBound.csv\",index_col = 0,dtype='str')\n",
    "gatekeepersUnbound = pd.read_csv(\"/Users/matthias/Documents/hibit.in/development/KinStruct/gatekeepersUnbound.csv\", index_col = 0,dtype='str')"
   ]
  },
  {
   "cell_type": "code",
   "execution_count": 92,
   "metadata": {
    "collapsed": false
   },
   "outputs": [],
   "source": [
    "gatekeepersBound.loc[:,\"alternatives\"] = gatekeepersBound.index\n",
    "gatekeepersUnbound.loc[:,\"alternatives\"] = gatekeepersUnbound.index"
   ]
  },
  {
   "cell_type": "code",
   "execution_count": 97,
   "metadata": {
    "collapsed": false
   },
   "outputs": [],
   "source": [
    "gatekeepersBound = gatekeepersBound.drop_duplicates()\n",
    "gatekeepersUnbound = gatekeepersUnbound.drop_duplicates()\n"
   ]
  },
  {
   "cell_type": "code",
   "execution_count": 100,
   "metadata": {
    "collapsed": false
   },
   "outputs": [],
   "source": [
    "gatekeepersBound = gatekeepersBound.drop(\"alternatives\",axis=1)\n",
    "gatekeepersUnbound = gatekeepersUnbound.drop(\"alternatives\",axis=1)"
   ]
  },
  {
   "cell_type": "code",
   "execution_count": 101,
   "metadata": {
    "collapsed": false
   },
   "outputs": [
    {
     "data": {
      "text/html": [
       "<div>\n",
       "<table border=\"1\" class=\"dataframe\">\n",
       "  <thead>\n",
       "    <tr style=\"text-align: right;\">\n",
       "      <th></th>\n",
       "      <th>resID</th>\n",
       "    </tr>\n",
       "  </thead>\n",
       "  <tbody>\n",
       "    <tr>\n",
       "      <th>4wsq_a</th>\n",
       "      <td>126.0</td>\n",
       "    </tr>\n",
       "    <tr>\n",
       "      <th>4wsq_b</th>\n",
       "      <td>126.0</td>\n",
       "    </tr>\n",
       "    <tr>\n",
       "      <th>2hz4_a</th>\n",
       "      <td>NaN</td>\n",
       "    </tr>\n",
       "    <tr>\n",
       "      <th>2hz4_c</th>\n",
       "      <td>NaN</td>\n",
       "    </tr>\n",
       "    <tr>\n",
       "      <th>3pyy_a</th>\n",
       "      <td>NaN</td>\n",
       "    </tr>\n",
       "    <tr>\n",
       "      <th>3pyy_b</th>\n",
       "      <td>NaN</td>\n",
       "    </tr>\n",
       "    <tr>\n",
       "      <th>2xyn_b</th>\n",
       "      <td>NaN</td>\n",
       "    </tr>\n",
       "    <tr>\n",
       "      <th>2xyn_c</th>\n",
       "      <td>NaN</td>\n",
       "    </tr>\n",
       "    <tr>\n",
       "      <th>3gvu_a</th>\n",
       "      <td>NaN</td>\n",
       "    </tr>\n",
       "    <tr>\n",
       "      <th>3mv5_a</th>\n",
       "      <td>227.0</td>\n",
       "    </tr>\n",
       "    <tr>\n",
       "      <th>3mvh_a</th>\n",
       "      <td>227.0</td>\n",
       "    </tr>\n",
       "    <tr>\n",
       "      <th>3o96_a</th>\n",
       "      <td>NaN</td>\n",
       "    </tr>\n",
       "    <tr>\n",
       "      <th>3ocb_a</th>\n",
       "      <td>NaN</td>\n",
       "    </tr>\n",
       "    <tr>\n",
       "      <th>3ocb_b</th>\n",
       "      <td>NaN</td>\n",
       "    </tr>\n",
       "    <tr>\n",
       "      <th>3ow4_a</th>\n",
       "      <td>NaN</td>\n",
       "    </tr>\n",
       "    <tr>\n",
       "      <th>3ow4_b</th>\n",
       "      <td>NaN</td>\n",
       "    </tr>\n",
       "    <tr>\n",
       "      <th>3qkk_a</th>\n",
       "      <td>NaN</td>\n",
       "    </tr>\n",
       "    <tr>\n",
       "      <th>3qkl_a</th>\n",
       "      <td>NaN</td>\n",
       "    </tr>\n",
       "    <tr>\n",
       "      <th>3qkm_a</th>\n",
       "      <td>NaN</td>\n",
       "    </tr>\n",
       "    <tr>\n",
       "      <th>4ejn_a</th>\n",
       "      <td>NaN</td>\n",
       "    </tr>\n",
       "    <tr>\n",
       "      <th>4ekk_a</th>\n",
       "      <td>NaN</td>\n",
       "    </tr>\n",
       "    <tr>\n",
       "      <th>4ekk_b</th>\n",
       "      <td>NaN</td>\n",
       "    </tr>\n",
       "    <tr>\n",
       "      <th>4ekl_a</th>\n",
       "      <td>NaN</td>\n",
       "    </tr>\n",
       "    <tr>\n",
       "      <th>4gv1_a</th>\n",
       "      <td>227.0</td>\n",
       "    </tr>\n",
       "    <tr>\n",
       "      <th>1o6k_a</th>\n",
       "      <td>NaN</td>\n",
       "    </tr>\n",
       "    <tr>\n",
       "      <th>1o6l_a</th>\n",
       "      <td>NaN</td>\n",
       "    </tr>\n",
       "    <tr>\n",
       "      <th>2jdo_a</th>\n",
       "      <td>NaN</td>\n",
       "    </tr>\n",
       "    <tr>\n",
       "      <th>2jdr_a</th>\n",
       "      <td>NaN</td>\n",
       "    </tr>\n",
       "    <tr>\n",
       "      <th>2uw9_a</th>\n",
       "      <td>NaN</td>\n",
       "    </tr>\n",
       "    <tr>\n",
       "      <th>2x39_a</th>\n",
       "      <td>NaN</td>\n",
       "    </tr>\n",
       "    <tr>\n",
       "      <th>...</th>\n",
       "      <td>...</td>\n",
       "    </tr>\n",
       "    <tr>\n",
       "      <th>5ap7_a</th>\n",
       "      <td>NaN</td>\n",
       "    </tr>\n",
       "    <tr>\n",
       "      <th>3lxn_a</th>\n",
       "      <td>NaN</td>\n",
       "    </tr>\n",
       "    <tr>\n",
       "      <th>3lxp_a</th>\n",
       "      <td>NaN</td>\n",
       "    </tr>\n",
       "    <tr>\n",
       "      <th>3nyx_a</th>\n",
       "      <td>978.0</td>\n",
       "    </tr>\n",
       "    <tr>\n",
       "      <th>3nz0_a</th>\n",
       "      <td>978.0</td>\n",
       "    </tr>\n",
       "    <tr>\n",
       "      <th>4gfo_a</th>\n",
       "      <td>NaN</td>\n",
       "    </tr>\n",
       "    <tr>\n",
       "      <th>4gih_a</th>\n",
       "      <td>978.0</td>\n",
       "    </tr>\n",
       "    <tr>\n",
       "      <th>4gii_a</th>\n",
       "      <td>NaN</td>\n",
       "    </tr>\n",
       "    <tr>\n",
       "      <th>4gj2_a</th>\n",
       "      <td>NaN</td>\n",
       "    </tr>\n",
       "    <tr>\n",
       "      <th>4gj3_a</th>\n",
       "      <td>NaN</td>\n",
       "    </tr>\n",
       "    <tr>\n",
       "      <th>4gvj_a</th>\n",
       "      <td>NaN</td>\n",
       "    </tr>\n",
       "    <tr>\n",
       "      <th>4py1_a</th>\n",
       "      <td>NaN</td>\n",
       "    </tr>\n",
       "    <tr>\n",
       "      <th>5f1z_a</th>\n",
       "      <td>978.0</td>\n",
       "    </tr>\n",
       "    <tr>\n",
       "      <th>5f20_a</th>\n",
       "      <td>NaN</td>\n",
       "    </tr>\n",
       "    <tr>\n",
       "      <th>4oli_a</th>\n",
       "      <td>NaN</td>\n",
       "    </tr>\n",
       "    <tr>\n",
       "      <th>4wno_a</th>\n",
       "      <td>92.0</td>\n",
       "    </tr>\n",
       "    <tr>\n",
       "      <th>4wnp_a</th>\n",
       "      <td>92.0</td>\n",
       "    </tr>\n",
       "    <tr>\n",
       "      <th>4wnp_b</th>\n",
       "      <td>92.0</td>\n",
       "    </tr>\n",
       "    <tr>\n",
       "      <th>4wnp_c</th>\n",
       "      <td>92.0</td>\n",
       "    </tr>\n",
       "    <tr>\n",
       "      <th>4wnp_d</th>\n",
       "      <td>92.0</td>\n",
       "    </tr>\n",
       "    <tr>\n",
       "      <th>5ci7_a</th>\n",
       "      <td>92.0</td>\n",
       "    </tr>\n",
       "    <tr>\n",
       "      <th>3op5_a</th>\n",
       "      <td>NaN</td>\n",
       "    </tr>\n",
       "    <tr>\n",
       "      <th>3op5_b</th>\n",
       "      <td>NaN</td>\n",
       "    </tr>\n",
       "    <tr>\n",
       "      <th>3op5_c</th>\n",
       "      <td>NaN</td>\n",
       "    </tr>\n",
       "    <tr>\n",
       "      <th>3op5_d</th>\n",
       "      <td>NaN</td>\n",
       "    </tr>\n",
       "    <tr>\n",
       "      <th>2xik_a</th>\n",
       "      <td>95.0</td>\n",
       "    </tr>\n",
       "    <tr>\n",
       "      <th>4nzw_b</th>\n",
       "      <td>NaN</td>\n",
       "    </tr>\n",
       "    <tr>\n",
       "      <th>1u59_a</th>\n",
       "      <td>414.0</td>\n",
       "    </tr>\n",
       "    <tr>\n",
       "      <th>2ozo_a</th>\n",
       "      <td>NaN</td>\n",
       "    </tr>\n",
       "    <tr>\n",
       "      <th>4k2r_a</th>\n",
       "      <td>NaN</td>\n",
       "    </tr>\n",
       "  </tbody>\n",
       "</table>\n",
       "<p>1139 rows × 1 columns</p>\n",
       "</div>"
      ],
      "text/plain": [
       "        resID\n",
       "4wsq_a  126.0\n",
       "4wsq_b  126.0\n",
       "2hz4_a    NaN\n",
       "2hz4_c    NaN\n",
       "3pyy_a    NaN\n",
       "3pyy_b    NaN\n",
       "2xyn_b    NaN\n",
       "2xyn_c    NaN\n",
       "3gvu_a    NaN\n",
       "3mv5_a  227.0\n",
       "3mvh_a  227.0\n",
       "3o96_a    NaN\n",
       "3ocb_a    NaN\n",
       "3ocb_b    NaN\n",
       "3ow4_a    NaN\n",
       "3ow4_b    NaN\n",
       "3qkk_a    NaN\n",
       "3qkl_a    NaN\n",
       "3qkm_a    NaN\n",
       "4ejn_a    NaN\n",
       "4ekk_a    NaN\n",
       "4ekk_b    NaN\n",
       "4ekl_a    NaN\n",
       "4gv1_a  227.0\n",
       "1o6k_a    NaN\n",
       "1o6l_a    NaN\n",
       "2jdo_a    NaN\n",
       "2jdr_a    NaN\n",
       "2uw9_a    NaN\n",
       "2x39_a    NaN\n",
       "...       ...\n",
       "5ap7_a    NaN\n",
       "3lxn_a    NaN\n",
       "3lxp_a    NaN\n",
       "3nyx_a  978.0\n",
       "3nz0_a  978.0\n",
       "4gfo_a    NaN\n",
       "4gih_a  978.0\n",
       "4gii_a    NaN\n",
       "4gj2_a    NaN\n",
       "4gj3_a    NaN\n",
       "4gvj_a    NaN\n",
       "4py1_a    NaN\n",
       "5f1z_a  978.0\n",
       "5f20_a    NaN\n",
       "4oli_a    NaN\n",
       "4wno_a   92.0\n",
       "4wnp_a   92.0\n",
       "4wnp_b   92.0\n",
       "4wnp_c   92.0\n",
       "4wnp_d   92.0\n",
       "5ci7_a   92.0\n",
       "3op5_a    NaN\n",
       "3op5_b    NaN\n",
       "3op5_c    NaN\n",
       "3op5_d    NaN\n",
       "2xik_a   95.0\n",
       "4nzw_b    NaN\n",
       "1u59_a  414.0\n",
       "2ozo_a    NaN\n",
       "4k2r_a    NaN\n",
       "\n",
       "[1139 rows x 1 columns]"
      ]
     },
     "execution_count": 101,
     "metadata": {},
     "output_type": "execute_result"
    }
   ],
   "source": [
    "gatekeepersBound"
   ]
  },
  {
   "cell_type": "code",
   "execution_count": 95,
   "metadata": {
    "collapsed": false
   },
   "outputs": [],
   "source": [
    "gatekeepersUnbound.resID = gatekeepersUnbound.resID.str.strip('[]\\'').astype(np.float32)\n",
    "gatekeepersBound.resID = gatekeepersBound.resID.str.strip('[]\\'').astype(np.float32)\n",
    "pass"
   ]
  },
  {
   "cell_type": "code",
   "execution_count": 102,
   "metadata": {
    "collapsed": false
   },
   "outputs": [],
   "source": [
    "gatekeepersBound.to_csv(\"/Users/matthias/Documents/hibit.in/development/KinStruct/gatekeepersBound.csv\")\n",
    "gatekeepersUnbound.to_csv(\"/Users/matthias/Documents/hibit.in/development/KinStruct/gatekeepersUnbound.csv\")"
   ]
  },
  {
   "cell_type": "markdown",
   "metadata": {},
   "source": [
    "# ## Old stuff"
   ]
  },
  {
   "cell_type": "markdown",
   "metadata": {},
   "source": [
    "### Load excel file"
   ]
  },
  {
   "cell_type": "code",
   "execution_count": 8,
   "metadata": {
    "collapsed": false
   },
   "outputs": [],
   "source": [
    "\n",
    "#separate because takes time\n",
    "\n",
    "reference = pd.read_excel(\"/Users/matthias/Documents/hibit.in/KinaseDomainMeasures-Novartis.xlsx\",\n",
    "                          header=0,\n",
    "                          sheetname=0,\n",
    "                          parse_cols=\"B,C,AJ\")\n",
    "\n"
   ]
  },
  {
   "cell_type": "markdown",
   "metadata": {},
   "source": [
    "### Compare calculated vs reference\n",
    "\n",
    "(old stuff, currently doesn't work because of changes in dataclass atom referencing, ergo no calculation)"
   ]
  },
  {
   "cell_type": "code",
   "execution_count": 147,
   "metadata": {
    "collapsed": false
   },
   "outputs": [
    {
     "data": {
      "text/html": [
       "<div>\n",
       "<table border=\"1\" class=\"dataframe\">\n",
       "  <thead>\n",
       "    <tr style=\"text-align: right;\">\n",
       "      <th></th>\n",
       "      <th>measured</th>\n",
       "      <th>pdb</th>\n",
       "      <th>pdbredo</th>\n",
       "      <th>diff1</th>\n",
       "      <th>diff2</th>\n",
       "    </tr>\n",
       "  </thead>\n",
       "  <tbody>\n",
       "    <tr>\n",
       "      <th>2gu8_a</th>\n",
       "      <td>10.616140</td>\n",
       "      <td>10.61610</td>\n",
       "      <td>10.61070</td>\n",
       "      <td>0.000040</td>\n",
       "      <td>0.005440</td>\n",
       "    </tr>\n",
       "    <tr>\n",
       "      <th>3agl_a</th>\n",
       "      <td>10.771265</td>\n",
       "      <td>10.77120</td>\n",
       "      <td>10.76240</td>\n",
       "      <td>0.000065</td>\n",
       "      <td>0.008865</td>\n",
       "    </tr>\n",
       "    <tr>\n",
       "      <th>3agl_b</th>\n",
       "      <td>10.741295</td>\n",
       "      <td>10.74130</td>\n",
       "      <td>10.75990</td>\n",
       "      <td>-0.000005</td>\n",
       "      <td>-0.018605</td>\n",
       "    </tr>\n",
       "    <tr>\n",
       "      <th>3ama_a</th>\n",
       "      <td>9.539944</td>\n",
       "      <td>9.54004</td>\n",
       "      <td>9.52416</td>\n",
       "      <td>-0.000096</td>\n",
       "      <td>0.015784</td>\n",
       "    </tr>\n",
       "    <tr>\n",
       "      <th>3amb_a</th>\n",
       "      <td>9.597634</td>\n",
       "      <td>9.59758</td>\n",
       "      <td>9.58747</td>\n",
       "      <td>0.000054</td>\n",
       "      <td>0.010164</td>\n",
       "    </tr>\n",
       "    <tr>\n",
       "      <th>3l9l_a</th>\n",
       "      <td>9.096610</td>\n",
       "      <td>9.09654</td>\n",
       "      <td>9.02010</td>\n",
       "      <td>0.000070</td>\n",
       "      <td>0.076510</td>\n",
       "    </tr>\n",
       "    <tr>\n",
       "      <th>3l9l_b</th>\n",
       "      <td>8.899876</td>\n",
       "      <td>8.89988</td>\n",
       "      <td>9.03277</td>\n",
       "      <td>-0.000004</td>\n",
       "      <td>-0.132894</td>\n",
       "    </tr>\n",
       "    <tr>\n",
       "      <th>3l9m_a</th>\n",
       "      <td>8.446536</td>\n",
       "      <td>8.44650</td>\n",
       "      <td>8.93785</td>\n",
       "      <td>0.000036</td>\n",
       "      <td>-0.491314</td>\n",
       "    </tr>\n",
       "    <tr>\n",
       "      <th>3l9m_b</th>\n",
       "      <td>8.862170</td>\n",
       "      <td>8.86213</td>\n",
       "      <td>8.96780</td>\n",
       "      <td>0.000040</td>\n",
       "      <td>-0.105630</td>\n",
       "    </tr>\n",
       "    <tr>\n",
       "      <th>3l9n_a</th>\n",
       "      <td>9.361628</td>\n",
       "      <td>9.36162</td>\n",
       "      <td>9.33039</td>\n",
       "      <td>0.000008</td>\n",
       "      <td>0.031238</td>\n",
       "    </tr>\n",
       "    <tr>\n",
       "      <th>3mvj_a</th>\n",
       "      <td>10.542971</td>\n",
       "      <td>10.54300</td>\n",
       "      <td>10.39910</td>\n",
       "      <td>-0.000029</td>\n",
       "      <td>0.143871</td>\n",
       "    </tr>\n",
       "    <tr>\n",
       "      <th>3mvj_e</th>\n",
       "      <td>10.454778</td>\n",
       "      <td>10.45470</td>\n",
       "      <td>10.54800</td>\n",
       "      <td>0.000078</td>\n",
       "      <td>-0.093222</td>\n",
       "    </tr>\n",
       "    <tr>\n",
       "      <th>3oog_a</th>\n",
       "      <td>10.458617</td>\n",
       "      <td>10.45860</td>\n",
       "      <td>10.41580</td>\n",
       "      <td>0.000017</td>\n",
       "      <td>0.042817</td>\n",
       "    </tr>\n",
       "    <tr>\n",
       "      <th>3ovv_a</th>\n",
       "      <td>10.181555</td>\n",
       "      <td>10.20760</td>\n",
       "      <td>10.20170</td>\n",
       "      <td>-0.026045</td>\n",
       "      <td>-0.020145</td>\n",
       "    </tr>\n",
       "    <tr>\n",
       "      <th>3owp_a</th>\n",
       "      <td>10.640455</td>\n",
       "      <td>10.64050</td>\n",
       "      <td>10.64930</td>\n",
       "      <td>-0.000045</td>\n",
       "      <td>-0.008845</td>\n",
       "    </tr>\n",
       "    <tr>\n",
       "      <th>3oxt_a</th>\n",
       "      <td>10.800443</td>\n",
       "      <td>10.80050</td>\n",
       "      <td>10.83720</td>\n",
       "      <td>-0.000057</td>\n",
       "      <td>-0.036757</td>\n",
       "    </tr>\n",
       "    <tr>\n",
       "      <th>3p0m_a</th>\n",
       "      <td>10.536126</td>\n",
       "      <td>10.53620</td>\n",
       "      <td>10.55290</td>\n",
       "      <td>-0.000074</td>\n",
       "      <td>-0.016774</td>\n",
       "    </tr>\n",
       "    <tr>\n",
       "      <th>3poo_a</th>\n",
       "      <td>10.117527</td>\n",
       "      <td>10.11750</td>\n",
       "      <td>10.13820</td>\n",
       "      <td>0.000027</td>\n",
       "      <td>-0.020673</td>\n",
       "    </tr>\n",
       "    <tr>\n",
       "      <th>3vqh_a</th>\n",
       "      <td>10.609841</td>\n",
       "      <td>10.60980</td>\n",
       "      <td>10.65100</td>\n",
       "      <td>0.000041</td>\n",
       "      <td>-0.041159</td>\n",
       "    </tr>\n",
       "    <tr>\n",
       "      <th>4wb5_a</th>\n",
       "      <td>10.241685</td>\n",
       "      <td>NaN</td>\n",
       "      <td>NaN</td>\n",
       "      <td>NaN</td>\n",
       "      <td>NaN</td>\n",
       "    </tr>\n",
       "    <tr>\n",
       "      <th>4wb6_a</th>\n",
       "      <td>10.097402</td>\n",
       "      <td>NaN</td>\n",
       "      <td>NaN</td>\n",
       "      <td>NaN</td>\n",
       "      <td>NaN</td>\n",
       "    </tr>\n",
       "    <tr>\n",
       "      <th>4wb6_b</th>\n",
       "      <td>10.092268</td>\n",
       "      <td>NaN</td>\n",
       "      <td>NaN</td>\n",
       "      <td>NaN</td>\n",
       "      <td>NaN</td>\n",
       "    </tr>\n",
       "    <tr>\n",
       "      <th>4wb8_a</th>\n",
       "      <td>10.132498</td>\n",
       "      <td>NaN</td>\n",
       "      <td>NaN</td>\n",
       "      <td>NaN</td>\n",
       "      <td>NaN</td>\n",
       "    </tr>\n",
       "  </tbody>\n",
       "</table>\n",
       "</div>"
      ],
      "text/plain": [
       "         measured       pdb   pdbredo     diff1     diff2\n",
       "2gu8_a  10.616140  10.61610  10.61070  0.000040  0.005440\n",
       "3agl_a  10.771265  10.77120  10.76240  0.000065  0.008865\n",
       "3agl_b  10.741295  10.74130  10.75990 -0.000005 -0.018605\n",
       "3ama_a   9.539944   9.54004   9.52416 -0.000096  0.015784\n",
       "3amb_a   9.597634   9.59758   9.58747  0.000054  0.010164\n",
       "3l9l_a   9.096610   9.09654   9.02010  0.000070  0.076510\n",
       "3l9l_b   8.899876   8.89988   9.03277 -0.000004 -0.132894\n",
       "3l9m_a   8.446536   8.44650   8.93785  0.000036 -0.491314\n",
       "3l9m_b   8.862170   8.86213   8.96780  0.000040 -0.105630\n",
       "3l9n_a   9.361628   9.36162   9.33039  0.000008  0.031238\n",
       "3mvj_a  10.542971  10.54300  10.39910 -0.000029  0.143871\n",
       "3mvj_e  10.454778  10.45470  10.54800  0.000078 -0.093222\n",
       "3oog_a  10.458617  10.45860  10.41580  0.000017  0.042817\n",
       "3ovv_a  10.181555  10.20760  10.20170 -0.026045 -0.020145\n",
       "3owp_a  10.640455  10.64050  10.64930 -0.000045 -0.008845\n",
       "3oxt_a  10.800443  10.80050  10.83720 -0.000057 -0.036757\n",
       "3p0m_a  10.536126  10.53620  10.55290 -0.000074 -0.016774\n",
       "3poo_a  10.117527  10.11750  10.13820  0.000027 -0.020673\n",
       "3vqh_a  10.609841  10.60980  10.65100  0.000041 -0.041159\n",
       "4wb5_a  10.241685       NaN       NaN       NaN       NaN\n",
       "4wb6_a  10.097402       NaN       NaN       NaN       NaN\n",
       "4wb6_b  10.092268       NaN       NaN       NaN       NaN\n",
       "4wb8_a  10.132498       NaN       NaN       NaN       NaN"
      ]
     },
     "execution_count": 147,
     "metadata": {},
     "output_type": "execute_result"
    }
   ],
   "source": [
    "\n",
    "ref_mod = reference.set_index(\"pdbchain\",drop=False).loc[results.index]\n",
    "ref_mod.loc[:,\"pdbchain_unique\"] = ref_mod.loc[:,\"pdbchain_unique\"].str.replace(r'[\\S]{4}_[abe]_','')\n",
    "ref_mod = ref_mod.drop_duplicates()\n",
    "ref_mod = ref_mod.pivot(index=\"pdbchain\",columns=\"pdbchain_unique\",values=\"Ploop_bend6\").iloc[1:,1:]\n",
    "end_results = pd.concat([results,ref_mod],axis=1)\n",
    "\n",
    "end_results[\"diff1\"] = end_results[\"measured\"].sub(end_results[\"pdb\"],axis=0)\n",
    "end_results[\"diff2\"] = end_results[\"measured\"].sub(end_results[\"pdbredo\"],axis=0)\n",
    "end_results"
   ]
  }
 ],
 "metadata": {
  "kernelspec": {
   "display_name": "Python 2",
   "language": "python",
   "name": "python2"
  },
  "language_info": {
   "codemirror_mode": {
    "name": "ipython",
    "version": 2
   },
   "file_extension": ".py",
   "mimetype": "text/x-python",
   "name": "python",
   "nbconvert_exporter": "python",
   "pygments_lexer": "ipython2",
   "version": "2.7.11"
  }
 },
 "nbformat": 4,
 "nbformat_minor": 0
}
